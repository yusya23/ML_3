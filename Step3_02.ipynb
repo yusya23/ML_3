{
 "cells": [
  {
   "cell_type": "markdown",
   "metadata": {},
   "source": [
    "# Step3 演習02 ロジスティック回帰\n",
    "---"
   ]
  },
  {
   "cell_type": "markdown",
   "metadata": {},
   "source": [
    "Step3 演習02ではロジスティック回帰の実装を行います。\n",
    "\n",
    "演習の前半は線形分離できるデータを扱います。\n",
    "\n",
    "後半は線形分離が難しいデータを用いてモデルの学習を行い実際に分類することができるのか確認をします。\n",
    "\n",
    "**はじめに**\n",
    "- for文やwhile文の利用は明示的な利用指示がない場所での使用は避けてください。\n",
    "\n",
    "**本演習の目的**\n",
    "- ロジスティック回帰の実装手順を学ぶ。\n",
    "- 線形分離できるデータと線形分離ができないデータに対しての実装方法を学ぶ。\n",
    "- 多項式で特徴を増やしてみる。\n",
    "- オーバーフィッティング対策の一つであるL2正則化を実装する。\n",
    "- SciPyを使った最適化手法に取り組む。"
   ]
  },
  {
   "cell_type": "markdown",
   "metadata": {},
   "source": [
    "## ライブラリのインポート\n",
    "\n",
    "まずはじめに、利用するライブラリのインポートを行います。\n",
    "\n",
    "- [numpy](http://www.numpy.org) 数値計算を行うための基本パッケージの公式ドキュメント\n",
    "- [matplotlib](http://matplotlib.org) グラフ描画ライブラリの基本パッケージの公式ドキュメント\n",
    "- [SciPy](https://docs.scipy.org/doc/) 数値解析ライブラリの基本パッケージの公式ドキュメント\n",
    "\n",
    "ドキュメントには有用な情報が書き記されています。何か迷ったときには必ずドキュメントに戻ってくるようにしましょう。\n",
    "\n",
    "次のセルをそのまま実行（\"SHIFT\" + \"ENTER\"）してください。コードが書いてあるセルは**上から順番に**順次実行してください。\n",
    "\n",
    "** 注意： **初めてmatplotlibを使うユーザーは、フォント一覧のキャッシュが存在しないため、このセルの実行でWarningが出ます。もう一度実行すると、すでにキャッシュができているので、Warningなく走ります。"
   ]
  },
  {
   "cell_type": "code",
   "execution_count": 1,
   "metadata": {
    "collapsed": true
   },
   "outputs": [],
   "source": [
    "%matplotlib inline\n",
    "import numpy as np\n",
    "import matplotlib.pyplot as plt\n",
    "import scipy.optimize as scopt\n",
    "import scipy.special as ss\n",
    "from sklearn import datasets\n",
    "import os\n",
    "font = {'family':'IPAexGothic'}\n",
    "plt.rc('font', **font)"
   ]
  },
  {
   "cell_type": "markdown",
   "metadata": {},
   "source": [
    "## ロジスティック回帰に使うサンプルデータを生成\n",
    "\n",
    "今回の演習では、事前に用意したデータセットを使ってロジスティック回帰の実装を行います。下のセルを実行するとデータセットが読み込まれます。一度生成したら同じものを毎回使えるように、データをCSVファイル(Comma-Separated Values コンマで区切られたデータ)で保存しておきます。\n",
    "<br><br>\n",
    "** Note： **新たなデータを使いたいときは、CSVファイルの名前を変えるか、コードを変えましょう。"
   ]
  },
  {
   "cell_type": "code",
   "execution_count": 2,
   "metadata": {
    "collapsed": true
   },
   "outputs": [],
   "source": [
    "if not os.path.isdir(\"./dataStep3\"):\n",
    "    os.makedirs(\"./dataStep3\")\n",
    "\n",
    "if os.path.isfile(\"./dataStep3/dataStep3_1.csv\") == True:\n",
    "    data = np.loadtxt(\"./dataStep3/dataStep3_1.csv\", delimiter = \",\")\n",
    "    X = data[:,0:2]  # X.shapeは(100, 2)\n",
    "    y = data[:,2] #y.shapeは(100, ) 1-dimのndarrayにしておく（縦ベクトルにならないこと注意）\n",
    "\n",
    "else:\n",
    "    X, y = datasets.make_classification(n_features=2, n_redundant=0, n_informative=1, n_clusters_per_class=1)\n",
    "    X = X * 12.5 + 50 # -4から4くらいから0から100くらいに変える\n",
    "    np.savetxt(\"./dataStep3/dataStep3_1.csv\", np.c_[X, y], delimiter=\",\", fmt=\"%f,%f,%d\")"
   ]
  },
  {
   "cell_type": "markdown",
   "metadata": {},
   "source": [
    "上のセルを実行したことによりデータセットを \"data\" に格納しました。下のセルを実行して、dataのshapeを確認しましょう。"
   ]
  },
  {
   "cell_type": "code",
   "execution_count": 3,
   "metadata": {
    "collapsed": false
   },
   "outputs": [
    {
     "data": {
      "text/plain": [
       "(100, 3)"
      ]
     },
     "execution_count": 3,
     "metadata": {},
     "output_type": "execute_result"
    }
   ],
   "source": [
    "data.shape"
   ]
  },
  {
   "cell_type": "markdown",
   "metadata": {},
   "source": [
    "(100,3)と表示されたはずです。\n",
    "<br>\n",
    "<br>\n",
    "今回使うデータセットは100行3列の行列がdataに格納されています。そしてXにdataの2列目までのデータセットを格納し、yにdataの3列目のデータを格納しています。下のセルを実行して、格納したdataの中身の一部分を確認してみましょう。\n",
    "\n",
    "部分的にdataの中身を確認する方法を知っていると便利です。下のセルを実行してみてください。"
   ]
  },
  {
   "cell_type": "code",
   "execution_count": 4,
   "metadata": {
    "collapsed": false
   },
   "outputs": [
    {
     "data": {
      "text/plain": [
       "array([[24.852293, 53.636441,  0.      ],\n",
       "       [63.063442, 55.237786,  1.      ],\n",
       "       [62.893502, 74.363114,  1.      ],\n",
       "       [39.334297, 56.22864 ,  0.      ],\n",
       "       [63.390393, 76.889652,  1.      ]])"
      ]
     },
     "execution_count": 4,
     "metadata": {},
     "output_type": "execute_result"
    }
   ],
   "source": [
    "data[:5]"
   ]
  },
  {
   "cell_type": "code",
   "execution_count": 5,
   "metadata": {
    "collapsed": false
   },
   "outputs": [
    {
     "data": {
      "text/plain": [
       "array([[24.852293],\n",
       "       [63.063442],\n",
       "       [62.893502],\n",
       "       [39.334297],\n",
       "       [63.390393]])"
      ]
     },
     "execution_count": 5,
     "metadata": {},
     "output_type": "execute_result"
    }
   ],
   "source": [
    "data[:5,0][:,np.newaxis]"
   ]
  },
  {
   "cell_type": "code",
   "execution_count": 6,
   "metadata": {
    "collapsed": false
   },
   "outputs": [
    {
     "data": {
      "text/plain": [
       "array([[53.636441],\n",
       "       [55.237786],\n",
       "       [74.363114],\n",
       "       [56.22864 ],\n",
       "       [76.889652]])"
      ]
     },
     "execution_count": 6,
     "metadata": {},
     "output_type": "execute_result"
    }
   ],
   "source": [
    "data[:5,1][:,np.newaxis]"
   ]
  },
  {
   "cell_type": "code",
   "execution_count": 7,
   "metadata": {
    "collapsed": false
   },
   "outputs": [
    {
     "data": {
      "text/plain": [
       "array([[0.],\n",
       "       [1.],\n",
       "       [1.],\n",
       "       [0.],\n",
       "       [1.]])"
      ]
     },
     "execution_count": 7,
     "metadata": {},
     "output_type": "execute_result"
    }
   ],
   "source": [
    "data[:5,2][:,np.newaxis]"
   ]
  },
  {
   "cell_type": "markdown",
   "metadata": {},
   "source": [
    "ここではdataの中身を訓練データ X と目標変数 y にわけました。** X **と ** y ** のデータを改めてshapeで確認しておきましょう。"
   ]
  },
  {
   "cell_type": "code",
   "execution_count": 8,
   "metadata": {
    "collapsed": false
   },
   "outputs": [
    {
     "data": {
      "text/plain": [
       "(100, 2)"
      ]
     },
     "execution_count": 8,
     "metadata": {},
     "output_type": "execute_result"
    }
   ],
   "source": [
    "X.shape"
   ]
  },
  {
   "cell_type": "code",
   "execution_count": 9,
   "metadata": {
    "collapsed": false
   },
   "outputs": [
    {
     "data": {
      "text/plain": [
       "(100,)"
      ]
     },
     "execution_count": 9,
     "metadata": {},
     "output_type": "execute_result"
    }
   ],
   "source": [
    "y.shape"
   ]
  },
  {
   "cell_type": "code",
   "execution_count": null,
   "metadata": {
    "collapsed": true
   },
   "outputs": [],
   "source": [
    "y"
   ]
  },
  {
   "cell_type": "markdown",
   "metadata": {},
   "source": [
    "- ** X ** は訓練データ\n",
    "- ** y ** は目標変数"
   ]
  },
  {
   "cell_type": "markdown",
   "metadata": {},
   "source": [
    "## データセットの可視化"
   ]
  },
  {
   "cell_type": "markdown",
   "metadata": {},
   "source": [
    "### 生成したデータの表示\n",
    "\n",
    "可視化は機械学習の実装において大変重要な作業になります。開発を進める前にデータセットの性質を把握し、可視化する癖をつけておきましょう。\n",
    "\n",
    "今回利用するデータセットの横軸は「声の大きさ」、縦軸は「話を面白いと感じた人数」とします。これら２つの特徴から「合格」、「不合格」という分類を行いたいとします。\n",
    "\n",
    "**【課題８】** 可視化する関数plotData(X, y)を書きましょう。途中まで書いてあるので、穴埋めして下さい。\n",
    "\n",
    "参考：[matplotlib.pyplot 公式チュートリアル](http://matplotlib.org/api/pyplot_api.html)"
   ]
  },
  {
   "cell_type": "code",
   "execution_count": 16,
   "metadata": {
    "collapsed": true
   },
   "outputs": [],
   "source": [
    "#Coursemale-02 Step3 QuestionNumber8 b72984afd7d6e72b952b42a08c633eb9\n",
    "def plotData(X, y):\n",
    "    plt.scatter(X[y==1,0], X[y==1,1], marker='o')\n",
    "###############ここを穴埋めしてください###############\n",
    "    # ヒント：上の行のy==1の部分を少し変えて使いましょう。markerは'x'にしましょう。\n",
    "    plt.scatter(X[y==0,0], X[y==0,1], marker='x')\n",
    "######################################################\n",
    "    plt.xlim([0,100])\n",
    "    plt.ylim([0,100])\n",
    "    plt.xlabel(u\"声の大きさ\")\n",
    "    plt.ylabel(u\"話を面白いと感じた人数\")\n",
    "    plt.legend((u'合格',u'不合格'))\n",
    "    plt.draw()"
   ]
  },
  {
   "cell_type": "markdown",
   "metadata": {},
   "source": [
    "左上の**保存マークをクリックした後**、次のセルをShift+Enterで実行して採点します。"
   ]
  },
  {
   "cell_type": "code",
   "execution_count": 17,
   "metadata": {
    "collapsed": false
   },
   "outputs": [
    {
     "name": "stdout",
     "output_type": "stream",
     "text": [
      "Congratulations!\n",
      "We give you 10 points out of 10 points.\n",
      "\n"
     ]
    }
   ],
   "source": [
    "%%bash\n",
    "./validation_client.py male-02 3 8 Step3_02.ipynb api.internal.zero2one.jp"
   ]
  },
  {
   "cell_type": "code",
   "execution_count": 18,
   "metadata": {
    "collapsed": false
   },
   "outputs": [
    {
     "data": {
      "image/png": "[encoded data removed]",
      "text/plain": [
       "<matplotlib.figure.Figure at 0x7f7a98b30a20>"
      ]
     },
     "metadata": {},
     "output_type": "display_data"
    }
   ],
   "source": [
    "plotData(X,y)"
   ]
  },
  {
   "cell_type": "markdown",
   "metadata": {},
   "source": [
    "### 目的関数\n",
    "ロジスティック回帰の目的関数$J(\\boldsymbol{\\theta})$を、以下に示します。\n",
    "$$J(\\boldsymbol{\\theta}) = -\\frac{1}{m}\\sum^{m}_{i=1}\\left(y^{(i)}\\log(h_{\\boldsymbol{\\theta}}(\\boldsymbol{x}^{(i)}))+(1-y^{(i)})\\log(1-h_{\\theta}(\\boldsymbol{x}^{(i)}))\\right)$$\n",
    "また、仮説$h_{\\boldsymbol{\\theta}}(x)$は、\n",
    "$$h_{\\boldsymbol{\\theta}}(x^{(i)})=\\frac{1}{1+e^{-\\boldsymbol{\\theta}^{\\top}\\boldsymbol{x^{(i)}}}}$$\n",
    "<br>\n",
    "とします。これから目的関数$J(\\boldsymbol{\\theta})$を計算するコードを書いていきます。"
   ]
  },
  {
   "cell_type": "markdown",
   "metadata": {},
   "source": [
    "その下準備として、まず訓練例の数を`m`、特徴の数を`n`に格納しておきましょう。"
   ]
  },
  {
   "cell_type": "code",
   "execution_count": 19,
   "metadata": {
    "collapsed": true
   },
   "outputs": [],
   "source": [
    "m, n = X.shape"
   ]
  },
  {
   "cell_type": "markdown",
   "metadata": {},
   "source": [
    "格納したデータの数を確認しましょう。"
   ]
  },
  {
   "cell_type": "code",
   "execution_count": 20,
   "metadata": {
    "collapsed": false
   },
   "outputs": [
    {
     "name": "stdout",
     "output_type": "stream",
     "text": [
      "訓練例の数m：100\n",
      "特徴の数n：2\n"
     ]
    }
   ],
   "source": [
    "print(\"訓練例の数m：{}\".format(m))\n",
    "print(\"特徴の数n：{}\".format(n))"
   ]
  },
  {
   "cell_type": "markdown",
   "metadata": {},
   "source": [
    "また、$\\boldsymbol{\\theta}$の初期値を`initial_theta`に格納しておきます。\n",
    "\n",
    "（生成された`initial_theta`のshapeを確認しましょう。それを見て、１次元になっていることを確認して下さい。）"
   ]
  },
  {
   "cell_type": "code",
   "execution_count": 21,
   "metadata": {
    "collapsed": true
   },
   "outputs": [],
   "source": [
    "initial_theta = np.zeros(n+1) # フィッティングパラメータの初期値は全部ゼロ"
   ]
  },
  {
   "cell_type": "code",
   "execution_count": 22,
   "metadata": {
    "collapsed": false
   },
   "outputs": [
    {
     "data": {
      "text/plain": [
       "(3,)"
      ]
     },
     "execution_count": 22,
     "metadata": {},
     "output_type": "execute_result"
    }
   ],
   "source": [
    "initial_theta.shape"
   ]
  },
  {
   "cell_type": "markdown",
   "metadata": {},
   "source": [
    "**【課題９】** 仮説$h(\\theta)$を計算する関数`hypothesis(X, theta)`を実装しましょう。\n",
    "<br><br>\n",
    "シグモイド関数はnumpyの数学関数を用いてもよいですし、scipyにすでに実装されている`scipy.special.expit(x)`を用いてもよいです。\n",
    "\n",
    "$$h_{\\boldsymbol{\\theta}}(x^{(i)})=\\frac{1}{1+e^{-\\boldsymbol{\\theta}^{\\top}\\boldsymbol{x^{(i)}}}}$$\n",
    "\n",
    "参考：\n",
    "- [numpyチュートリアル numpy.exp](http://docs.scipy.org/doc/numpy/reference/generated/numpy.exp.html)\n",
    "- [scipyチュートリアル scipy.special.expit](http://docs.scipy.org/doc/scipy/reference/generated/scipy.special.expit.html)"
   ]
  },
  {
   "cell_type": "markdown",
   "metadata": {},
   "source": [
    "**【Note】**\n",
    "\n",
    "$\\theta$と$x$の演算は**配列**によって転置が不要の場合や$-x^{(i)\\top}\\theta$のように入れ替わることもあります。データの配列には注意をしましょう。"
   ]
  },
  {
   "cell_type": "code",
   "execution_count": 32,
   "metadata": {
    "collapsed": true
   },
   "outputs": [],
   "source": [
    "#Coursemale-02 Step3 QuestionNumber9 1ac53ac5395d8be35cf381921783bc01\n",
    "def hypothesis(X, theta):\n",
    "    m = X.shape[0] #訓練例の数\n",
    "    XwithBias = np.c_[np.ones([m,1]),X] # Xの1列目にズラッと1を並べる XwithBias.shapeは(100, 3)\n",
    "###############ここを穴埋めしてください###############\n",
    "    #numpyを使ってもscipyを使っても構いません。\n",
    "    h = ss.expit(np.dot(XwithBias, theta))\n",
    "######################################################\n",
    "    return h"
   ]
  },
  {
   "cell_type": "markdown",
   "metadata": {},
   "source": [
    "左上の**保存マークをクリックした後**、次のセルをShift+Enterで実行して採点します。"
   ]
  },
  {
   "cell_type": "code",
   "execution_count": 33,
   "metadata": {
    "collapsed": false
   },
   "outputs": [
    {
     "name": "stdout",
     "output_type": "stream",
     "text": [
      "Congratulations!\n",
      "We give you 10 points out of 10 points.\n",
      "\n"
     ]
    }
   ],
   "source": [
    "%%bash\n",
    "./validation_client.py male-02 3 9 Step3_02.ipynb api.internal.zero2one.jp"
   ]
  },
  {
   "cell_type": "markdown",
   "metadata": {},
   "source": [
    "いま定義した仮説** hypothesis ** に入力データ X と初期化した$\\theta$ initial_thetaを渡し実行してみます。"
   ]
  },
  {
   "cell_type": "code",
   "execution_count": 34,
   "metadata": {
    "collapsed": false
   },
   "outputs": [
    {
     "data": {
      "text/plain": [
       "array([0.5, 0.5, 0.5, 0.5, 0.5, 0.5, 0.5, 0.5, 0.5, 0.5, 0.5, 0.5, 0.5,\n",
       "       0.5, 0.5, 0.5, 0.5, 0.5, 0.5, 0.5, 0.5, 0.5, 0.5, 0.5, 0.5, 0.5,\n",
       "       0.5, 0.5, 0.5, 0.5, 0.5, 0.5, 0.5, 0.5, 0.5, 0.5, 0.5, 0.5, 0.5,\n",
       "       0.5, 0.5, 0.5, 0.5, 0.5, 0.5, 0.5, 0.5, 0.5, 0.5, 0.5, 0.5, 0.5,\n",
       "       0.5, 0.5, 0.5, 0.5, 0.5, 0.5, 0.5, 0.5, 0.5, 0.5, 0.5, 0.5, 0.5,\n",
       "       0.5, 0.5, 0.5, 0.5, 0.5, 0.5, 0.5, 0.5, 0.5, 0.5, 0.5, 0.5, 0.5,\n",
       "       0.5, 0.5, 0.5, 0.5, 0.5, 0.5, 0.5, 0.5, 0.5, 0.5, 0.5, 0.5, 0.5,\n",
       "       0.5, 0.5, 0.5, 0.5, 0.5, 0.5, 0.5, 0.5, 0.5])"
      ]
     },
     "execution_count": 34,
     "metadata": {},
     "output_type": "execute_result"
    }
   ],
   "source": [
    "hypothesis(X, initial_theta)"
   ]
  },
  {
   "cell_type": "markdown",
   "metadata": {},
   "source": [
    "** initial_theta ** を0に初期化していたため、シグモイド関数分母の${-\\boldsymbol{\\theta}^{\\top}\\boldsymbol{x^{(i)}}}$の計算結果はすべて0で$e^0$は1になります。よって ** hypothesis(X, initial_theta) ** の結果はすべて0.5になりました。シグモイド関数への入力値が0のとき、出力値が0.5となっていたことを思い出しましょう。下のセルを実行するとシグモイド関数のグラフが出力されます。"
   ]
  },
  {
   "cell_type": "code",
   "execution_count": 35,
   "metadata": {
    "collapsed": false
   },
   "outputs": [
    {
     "data": {
      "image/png": "[encoded data removed]",
      "text/plain": [
       "<matplotlib.figure.Figure at 0x7f7a98b1aef0>"
      ]
     },
     "metadata": {},
     "output_type": "display_data"
    }
   ],
   "source": [
    "test_data = np.arange(-10,10,0.1)\n",
    "h = ss.expit(test_data)\n",
    "plt.plot(test_data, h)\n",
    "plt.grid()\n",
    "plt.show()"
   ]
  },
  {
   "cell_type": "markdown",
   "metadata": {},
   "source": [
    "では次に、目的関数$J(\\boldsymbol{\\theta})$を計算する関数`cost(theta, X, y)`を書きましょう。\n",
    "\n",
    "**【課題１０】** 目的関数$J(\\boldsymbol{\\theta})$を計算する関数`cost(theta, X, y)`を実装してください。\n",
    "<br>\n",
    "\n",
    "$$J(\\boldsymbol{\\theta}) = -\\frac{1}{m}\\sum^{m}_{i=1}\\left(y^{(i)}\\log(h_{\\boldsymbol{\\theta}}(\\boldsymbol{x}^{(i)}))+(1-y^{(i)})\\log(1-h_{\\theta}(\\boldsymbol{x}^{(i)}))\\right)$$\n",
    "\n",
    "** ヒント： **\n",
    "- $h_{\\boldsymbol{\\theta}}(\\boldsymbol{x}^{(i)})$は課題９で定義した関数hypothesis() を使うことができます。\n",
    "- logはnumpyの数学関数 np.log(x) を使うことができます。"
   ]
  },
  {
   "cell_type": "code",
   "execution_count": 36,
   "metadata": {
    "collapsed": true
   },
   "outputs": [],
   "source": [
    "#Coursemale-02 Step3 QuestionNumber10 7aa86d7c7cc562504ad4efb61447425c\n",
    "def cost(theta, X, y):\n",
    "    h = hypothesis(X, theta) #仮説h\n",
    "    m = X.shape[0] #訓練例の数\n",
    "\n",
    "###############ここを穴埋めしてください###############\n",
    "    # 1次元のnumpy配列同士のdot積は内積を表します。\n",
    "    J = - (y.dot(np.log(h))+(1- y).dot(np.log(1- h))) / m \n",
    "######################################################\n",
    "\n",
    "    # -inf * 0 は nan になる。そのときはJ全体をinfで返す。\n",
    "    if np.isnan(J):\n",
    "        return np.inf\n",
    "    return J"
   ]
  },
  {
   "cell_type": "markdown",
   "metadata": {},
   "source": [
    "左上の**保存マークをクリックした後**、次のセルをShift+Enterで実行して採点します。"
   ]
  },
  {
   "cell_type": "code",
   "execution_count": 37,
   "metadata": {
    "collapsed": false
   },
   "outputs": [
    {
     "name": "stdout",
     "output_type": "stream",
     "text": [
      "Congratulations!\n",
      "We give you 10 points out of 10 points.\n",
      "\n"
     ]
    }
   ],
   "source": [
    "%%bash\n",
    "./validation_client.py male-02 3 10 Step3_02.ipynb api.internal.zero2one.jp"
   ]
  },
  {
   "cell_type": "markdown",
   "metadata": {},
   "source": [
    "いま実装した目的関数を用いて下のセルを実行し、初期のパラメータ（initial_theta）に対してのコストを出力してみましょう。"
   ]
  },
  {
   "cell_type": "code",
   "execution_count": 38,
   "metadata": {
    "collapsed": false
   },
   "outputs": [
    {
     "data": {
      "text/plain": [
       "0.6931471805599453"
      ]
     },
     "execution_count": 38,
     "metadata": {},
     "output_type": "execute_result"
    }
   ],
   "source": [
    "cost(initial_theta, X, y)"
   ]
  },
  {
   "cell_type": "markdown",
   "metadata": {},
   "source": [
    "この目的関数を利用して次に実装する目的関数の勾配で最適化をおこないます。最適化を行うことで目的関数の出力の値をなるべく小さくすることが目標になります。"
   ]
  },
  {
   "cell_type": "markdown",
   "metadata": {},
   "source": [
    "### 目的関数の勾配(gradient)\n",
    "目的関数$J(\\boldsymbol{\\theta})$の最小化（最適化）には、主に勾配(gradient)$\\frac{\\partial}{\\partial \\boldsymbol{\\theta}}J(\\boldsymbol{\\theta})$を用いたアルゴリズムである勾配法が用いられます。一口に勾配法といっても実に様々な種類のアルゴリズムが発明されており、その中でも特に原始的かつ基本的なのがStep2の課題で実装した最急降下法です。\n",
    "\n",
    "機械学習で主に用いられる最適化アルゴリズムは勾配法であるため、勾配$\\frac{\\partial}{\\partial \\boldsymbol{\\theta}}J(\\boldsymbol{\\theta})$の実装は多くの場合必要になってきます。勾配を目的関数$J(\\boldsymbol{\\theta})$からソフトウェアで導出する手法は、講義で説明したように主に３種類ありますが、今回は手動で実装します。"
   ]
  },
  {
   "cell_type": "markdown",
   "metadata": {},
   "source": [
    "ロジスティック回帰の目的関数の勾配は、以下のように計算されました。\n",
    "$$\\frac{\\partial}{\\partial \\theta_j}J(\\boldsymbol{\\theta})=\\frac{1}{m}\\sum_{i=1}^{m}(h_{\\boldsymbol{\\theta}}(x^{(i)})-y^{(i)})x^{(i)}$$\n",
    "これを実装すれば良いわけです。"
   ]
  },
  {
   "cell_type": "markdown",
   "metadata": {},
   "source": [
    "**【課題１１】** 目的関数の勾配を計算する関数`grad(theta, X, y)`を実装しましょう。以下に、その一部がすでに書き込まれていますので、穴埋めしてください。"
   ]
  },
  {
   "cell_type": "code",
   "execution_count": 39,
   "metadata": {
    "collapsed": true
   },
   "outputs": [],
   "source": [
    "#Coursemale-02 Step3 QuestionNumber11 bce4b6146153b88e14aa53310640d18a\n",
    "def grad(theta, X, y):\n",
    "    m = X.shape[0] #訓練例の数\n",
    "    XwithBias = np.c_[np.ones([m,1]),X] # Xの1列目にズラッと1を並べる XwithBias.shapeは(100, 3)\n",
    "    h = hypothesis(X, theta) #仮説h \n",
    "\n",
    "###############ここを穴埋めしてください###############\n",
    "    # ヒント：XwithBiasを使います。この行列の転置はXwithBias.T\n",
    "    grad =  XwithBias.T.dot(h - y) / m\n",
    "######################################################\n",
    "\n",
    "    return grad"
   ]
  },
  {
   "cell_type": "markdown",
   "metadata": {},
   "source": [
    "左上の**保存マークをクリックした後**、次のセルをShift+Enterで実行して採点します。"
   ]
  },
  {
   "cell_type": "code",
   "execution_count": 40,
   "metadata": {
    "collapsed": false
   },
   "outputs": [
    {
     "name": "stdout",
     "output_type": "stream",
     "text": [
      "Congratulations!\n",
      "We give you 10 points out of 10 points.\n",
      "\n"
     ]
    }
   ],
   "source": [
    "%%bash\n",
    "./validation_client.py male-02 3 11 Step3_02.ipynb api.internal.zero2one.jp"
   ]
  },
  {
   "cell_type": "code",
   "execution_count": 41,
   "metadata": {
    "collapsed": false
   },
   "outputs": [
    {
     "data": {
      "text/plain": [
       "array([ 0.        , -6.16797212, -0.80155118])"
      ]
     },
     "execution_count": 41,
     "metadata": {},
     "output_type": "execute_result"
    }
   ],
   "source": [
    "grad(initial_theta, X, y)"
   ]
  },
  {
   "cell_type": "markdown",
   "metadata": {},
   "source": [
    "以上を使って勾配法の繰り返しを行う前の状態を表示させておきます。"
   ]
  },
  {
   "cell_type": "code",
   "execution_count": 42,
   "metadata": {
    "collapsed": false
   },
   "outputs": [
    {
     "name": "stdout",
     "output_type": "stream",
     "text": [
      "初期のθ（全部ゼロ）でのJの値(cost)は:  0.6931471805599453\n",
      "初期のθ（全部ゼロ）でのJの勾配(grad)は： [ 0.         -6.16797212 -0.80155118]\n"
     ]
    }
   ],
   "source": [
    "cost_init = cost(initial_theta, X, y)\n",
    "grad_init = grad(initial_theta, X, y)\n",
    "print(\"初期のθ（全部ゼロ）でのJの値(cost)は: \", cost_init)\n",
    "print(\"初期のθ（全部ゼロ）でのJの勾配(grad)は：\", grad_init)"
   ]
  },
  {
   "cell_type": "markdown",
   "metadata": {},
   "source": [
    "### 勾配法による最適化\n",
    "Step2の課題では最急降下法を自力で実装し、それを目的関数の最適化アルゴリズムとして用いました。今回は、その他のアドバンストな勾配法アルゴリズムを用いたいと思います。すでにカリカリにチューニングされたアルゴリズムが沢山SciPyに揃っています。\n",
    "\n",
    "[SciPy チュートリアル Optimization (scipy.optimize)](http://docs.scipy.org/doc/scipy/reference/optimize.html#optimization)\n",
    "\n",
    "今回は1970年代後半に発明されたBFGSアルゴリズム(Broyden-Fletcher-Goldfarb-Shanno algorithm)を用いたいと思います。以下で出てくる`jac`は目的関数$J(\\boldsymbol{\\theta})$のヤコビアン(Jacobian)、つまり勾配(gradient)のことです。\n",
    "\n",
    "次を実行すると、赤い欄で「RuntimeWarning: divide by zero encountered in log」と警告(Warning)されることがあります、これは`cost(theta, X, y)`関数で使われている`np.log(x)`に関する警告です。$\\log(0)$が未定義であるため、何かが変だと警告してくれているのです。$$\\lim_{x \\rightarrow 0}\\log(x) = -\\infty$$であるため、`np.log(0)`を実行すると便宜的に`-inf`を返しておいてくれますが、数学的に正しくは未定義（$\\log(0)$に該当する数は存在しない）であり、また$-\\infty$でもありません。この対策は`cost(theta, X, y)`関数の最後の方で行っていますので、警告が出てもとりあえず大丈夫です。もし気になる場合は`cost(theta, X, y)`関数を、logの内部(`h`と`1-h`)が1の時、0の時とそれぞれ場合分けして対策すればいいでしょう。"
   ]
  },
  {
   "cell_type": "code",
   "execution_count": 43,
   "metadata": {
    "collapsed": false,
    "scrolled": true
   },
   "outputs": [
    {
     "name": "stdout",
     "output_type": "stream",
     "text": [
      "Optimization terminated successfully.\n",
      "         Current function value: 0.094398\n",
      "         Iterations: 32\n",
      "         Function evaluations: 40\n",
      "         Gradient evaluations: 36\n"
     ]
    },
    {
     "name": "stderr",
     "output_type": "stream",
     "text": [
      "/opt/conda/lib/python3.5/site-packages/ipykernel/__main__.py:8: RuntimeWarning: divide by zero encountered in log\n",
      "/opt/conda/lib/python3.5/site-packages/ipykernel/__main__.py:8: RuntimeWarning: divide by zero encountered in log\n"
     ]
    }
   ],
   "source": [
    "res = scopt.minimize(cost, initial_theta, jac=grad, args=(X,y), method='BFGS', options={'maxiter': 400, 'disp': True})"
   ]
  },
  {
   "cell_type": "markdown",
   "metadata": {},
   "source": [
    "ここで、[SciPy公式チュートリアル scipy.optimize.minimize](http://docs.scipy.org/doc/scipy/reference/generated/scipy.optimize.minimize.html)を読むと、minimize関数に出てくるオプションの一つである`jac`はoptional、つまりあってもなくてもよいオプションであると書いてあります。これは変だと思いませんか。BFGSは勾配法の一種であり、勾配法には勾配の計算が不可欠でした。一体どうなっているのでしょうか。\n",
    "\n",
    "もう少しチュートリアルをよく読んで下さい。`jac`デフォルトでは`None`つまり`False`であり、`jac=False`のとき数値的に概算する（数値微分）と書いてあります。オプションを指定しないと数値微分によって勾配が求められるのです。数値微分は大変計算量が大きいですから、大規模な学習を行う場合は避けなければなりません。"
   ]
  },
  {
   "cell_type": "markdown",
   "metadata": {},
   "source": [
    "では、BFGSによって最適化した結果を出力しましょう。今回の実装では、\n",
    "- res.fun：\"cost\"の最適化された結果を返す\n",
    "- res.x：\"initial_theta\"の最適化された結果を返す"
   ]
  },
  {
   "cell_type": "code",
   "execution_count": 44,
   "metadata": {
    "collapsed": true
   },
   "outputs": [],
   "source": [
    "J = res.fun\n",
    "theta = res.x"
   ]
  },
  {
   "cell_type": "markdown",
   "metadata": {},
   "source": [
    "学習がうまく進んでいると目的関数の出力である** Jの値(cost) ** が０に限りなく近づいているはずです。下のセルを実行してください。"
   ]
  },
  {
   "cell_type": "code",
   "execution_count": 45,
   "metadata": {
    "collapsed": false
   },
   "outputs": [
    {
     "name": "stdout",
     "output_type": "stream",
     "text": [
      "最小化されたJの値(cost)は:  0.09439758661348485\n",
      "そのときのthetaは： [-6.21712319e+01  1.01878488e+00  4.25811876e-02]\n"
     ]
    }
   ],
   "source": [
    "print(\"最小化されたJの値(cost)は: \", J)\n",
    "print(\"そのときのthetaは：\", theta)"
   ]
  },
  {
   "cell_type": "markdown",
   "metadata": {},
   "source": [
    "最適化されたシータの値をそれぞれ改めて確認してみます。"
   ]
  },
  {
   "cell_type": "code",
   "execution_count": 46,
   "metadata": {
    "collapsed": false
   },
   "outputs": [
    {
     "data": {
      "text/plain": [
       "-62.1712319380802"
      ]
     },
     "execution_count": 46,
     "metadata": {},
     "output_type": "execute_result"
    }
   ],
   "source": [
    "#θ0の値\n",
    "theta[0]"
   ]
  },
  {
   "cell_type": "code",
   "execution_count": 47,
   "metadata": {
    "collapsed": false
   },
   "outputs": [
    {
     "data": {
      "text/plain": [
       "1.0187848782858968"
      ]
     },
     "execution_count": 47,
     "metadata": {},
     "output_type": "execute_result"
    }
   ],
   "source": [
    "#θ1の値\n",
    "theta[1]"
   ]
  },
  {
   "cell_type": "code",
   "execution_count": 48,
   "metadata": {
    "collapsed": false
   },
   "outputs": [
    {
     "data": {
      "text/plain": [
       "0.04258118762822235"
      ]
     },
     "execution_count": 48,
     "metadata": {},
     "output_type": "execute_result"
    }
   ],
   "source": [
    "#θ2の値\n",
    "theta[2]"
   ]
  },
  {
   "cell_type": "markdown",
   "metadata": {},
   "source": [
    "### 決定境界\n",
    "この目的関数を最小化した結果を用いて、決定境界(Decision Boundary)を引いてみましょう。\n",
    "\n",
    "**【課題１２】** 決定境界を引く関数`plotDataWithDB(X, y, theta)`を実装しましょう。以下に、その一部がすでに書き込まれていますので、穴埋めしてください。\n",
    "\n",
    "ヒント：$$\\theta_0+\\theta_1x_1+\\theta_2x_2 = 0$$を式変形すると、$$x_2=-\\frac{\\theta_0+\\theta_1x_1}{\\theta_2}$$となることを利用します。"
   ]
  },
  {
   "cell_type": "code",
   "execution_count": 49,
   "metadata": {
    "collapsed": true
   },
   "outputs": [],
   "source": [
    "#Coursemale-02 Step3 QuestionNumber12 156c0583d8529d22a87bf16e771e7309\n",
    "def plotDataWithDB(X, y, theta):\n",
    "    #課題8で実装してもらった関数です\n",
    "    plotData(X,y)\n",
    "    \n",
    "    #このセル内で直前にプロットしたものに上書きしていきます\n",
    "    plt.hold(True)\n",
    "    \n",
    "    #得られたthetaをもとにグラフの画面の端と端(0,100)をプロットしてその間に直線で引くことで、回帰直線を掃引します。\n",
    "###############ここを穴埋めしてください###############\n",
    "    x1_plot = np.array([0, 100])\n",
    "    x2_plot = - ( theta[0] + theta[1] * x1_plot) / theta[2]\n",
    "    plt.plot(x1_plot, x2_plot)\n",
    "######################################################\n",
    "    \n",
    "    #念のため、グラフの端をもう一度指定しておきます。\n",
    "    plt.xlim([0,100])\n",
    "    plt.ylim([0,100])\n",
    "    \n",
    "    #凡例を入れます。\n",
    "    plt.legend((u'決定境界', u'合格', u'不合格'))\n",
    "    \n",
    "    plt.show()"
   ]
  },
  {
   "cell_type": "markdown",
   "metadata": {},
   "source": [
    "左上の**保存マークをクリックした後**、次のセルをShift+Enterで実行して採点します。"
   ]
  },
  {
   "cell_type": "code",
   "execution_count": 50,
   "metadata": {
    "collapsed": false,
    "scrolled": true
   },
   "outputs": [
    {
     "name": "stdout",
     "output_type": "stream",
     "text": [
      "Congratulations!\n",
      "We give you 10 points out of 10 points.\n",
      "\n"
     ]
    }
   ],
   "source": [
    "%%bash\n",
    "./validation_client.py male-02 3 12 Step3_02.ipynb api.internal.zero2one.jp"
   ]
  },
  {
   "cell_type": "code",
   "execution_count": 51,
   "metadata": {
    "collapsed": false
   },
   "outputs": [
    {
     "data": {
      "image/png": "[encoded data removed]",
      "text/plain": [
       "<matplotlib.figure.Figure at 0x7f7a92f04278>"
      ]
     },
     "metadata": {},
     "output_type": "display_data"
    }
   ],
   "source": [
    "plotDataWithDB(X, y, theta)"
   ]
  },
  {
   "cell_type": "markdown",
   "metadata": {},
   "source": [
    "### 訓練集合に入っていないデータからの予測\n",
    "訓練集合に入っていないデータから予測します。\n",
    "\n",
    "**【課題１３】** 声の大きさが45点、話を面白いと感じた人数が85人の候補者が合格する確率はいくつになるでしょうか。\n",
    "\n",
    "** ヒント：** \n",
    "- ロジスティック回帰では仮説の出力は何を意味していたでしょうか。<br>\n",
    "- 学習済みのパラメータ** theta ** を使います。\n",
    "- 入力Xは、「声の大きさが45点、話を面白いと感じた人数が85人」を２次元配列で渡すことに注意しましょう。"
   ]
  },
  {
   "cell_type": "code",
   "execution_count": 52,
   "metadata": {
    "collapsed": false
   },
   "outputs": [
    {
     "name": "stdout",
     "output_type": "stream",
     "text": [
      "声の大きさが45点、話を面白いと感じた人数が85人の候補者が合格する確率は 3.031313608800768e-06\n"
     ]
    }
   ],
   "source": [
    "#Coursemale-02 Step3 QuestionNumber13 8bc7aa1be097266bfa4a55a48731f581\n",
    "###############ここを穴埋めしてください###############\n",
    "prob = hypothesis(np.array([[45, 85]]), theta)\n",
    "######################################################\n",
    "print(\"声の大きさが45点、話を面白いと感じた人数が85人の候補者が合格する確率は\", prob[0])"
   ]
  },
  {
   "cell_type": "markdown",
   "metadata": {},
   "source": [
    "左上の**保存マークをクリックした後**、次のセルをShift+Enterで実行して採点します。"
   ]
  },
  {
   "cell_type": "code",
   "execution_count": 53,
   "metadata": {
    "collapsed": false,
    "scrolled": true
   },
   "outputs": [
    {
     "name": "stdout",
     "output_type": "stream",
     "text": [
      "声の大きさが45点、話を面白いと感じた人数が85人の候補者が合格する確率は 3.0313136088006925e-06\n",
      "Congratulations!\n",
      "We give you 10 points out of 10 points.\n",
      "\n"
     ]
    }
   ],
   "source": [
    "%%bash\n",
    "./validation_client.py male-02 3 13 Step3_02.ipynb api.internal.zero2one.jp"
   ]
  },
  {
   "cell_type": "markdown",
   "metadata": {},
   "source": [
    "### 訓練集合に対する予測精度\n",
    "訓練データに対する予測精度を計算します。下のセルにはすでに訓練データと目標変数を用いてモデルの精度を予測する関数を実装しているのでそのままセルを実行してみてください。以下のコードは精度を測定する際によく使うので保存しておくといいでしょう。"
   ]
  },
  {
   "cell_type": "code",
   "execution_count": 54,
   "metadata": {
    "collapsed": true
   },
   "outputs": [],
   "source": [
    "def predict(theta, X):\n",
    "    h = hypothesis(X, theta)\n",
    "    predicted_y = np.where(h >= 0.5, 1, 0 )\n",
    "    return predicted_y"
   ]
  },
  {
   "cell_type": "code",
   "execution_count": 55,
   "metadata": {
    "collapsed": false
   },
   "outputs": [
    {
     "name": "stdout",
     "output_type": "stream",
     "text": [
      "学習精度は 98.0 %\n"
     ]
    }
   ],
   "source": [
    "predictX = predict(theta, X)\n",
    "accuracy = (predictX == y).mean()\n",
    "print(\"学習精度は %2.1f\"% (accuracy*100), \"%\")"
   ]
  },
  {
   "cell_type": "markdown",
   "metadata": {},
   "source": [
    "---\n",
    "## 多項式で特徴を拡張したロジスティック回帰"
   ]
  },
  {
   "cell_type": "markdown",
   "metadata": {
    "collapsed": true
   },
   "source": [
    "ここからは別の訓練集合を使って学習モデルの学習をさせていきます。次に新たに生成するデータセットは直線での分類が難しい** 線形分離不可能なデータ **を取り扱っていきます。"
   ]
  },
  {
   "cell_type": "markdown",
   "metadata": {},
   "source": [
    "### サンプルデータを生成\n",
    "\n",
    "今回の演習では、事前に用意したデータセットを使ってロジスティック回帰の実装を行います。下のセルを実行するとデータセットが読み込まれます。一度生成したら同じものを毎回使えるように、データをCSVファイル(Comma-Separated Values コンマで区切られたデータ)で保存しておきます。\n",
    "<br><br>\n",
    "** Note： **新たなデータを使いたいときは、CSVファイルの名前を変えるか、コードを変えましょう。"
   ]
  },
  {
   "cell_type": "code",
   "execution_count": 56,
   "metadata": {
    "collapsed": true
   },
   "outputs": [],
   "source": [
    "if not os.path.isdir(\"./dataStep3\"):\n",
    "    os.makedirs(\"./dataStep3\")\n",
    "\n",
    "if os.path.isfile(\"./dataStep3/dataStep3_2.csv\") == True:\n",
    "    data = np.loadtxt(\"./dataStep3/dataStep3_2.csv\", delimiter = \",\")\n",
    "    X = data[:,0:2]  # X.shapeは(100, 2)\n",
    "    y = data[:,2] #y.shapeは(100, ) 1-dimのndarrayにしておく（縦ベクトルにならないこと注意）\n",
    "\n",
    "else:\n",
    "    X, y = datasets.make_circles(n_samples=120, factor = 0.6, noise = 0.1)\n",
    "    X = X + 1.5 # -1.5から1.5くらいから0から3くらいに変える\n",
    "    np.savetxt(\"./dataStep3/dataStep3_2.csv\", np.c_[X, y], delimiter=\",\", fmt=\"%f,%f,%d\")"
   ]
  },
  {
   "cell_type": "markdown",
   "metadata": {},
   "source": [
    "上のセルを実行したことによりデータセットを \"data\" に格納しました。下のセルを実行して、dataのshapeを確認しましょう。"
   ]
  },
  {
   "cell_type": "code",
   "execution_count": 57,
   "metadata": {
    "collapsed": false
   },
   "outputs": [
    {
     "data": {
      "text/plain": [
       "(120, 3)"
      ]
     },
     "execution_count": 57,
     "metadata": {},
     "output_type": "execute_result"
    }
   ],
   "source": [
    "data.shape"
   ]
  },
  {
   "cell_type": "markdown",
   "metadata": {},
   "source": [
    "(120,3)と表示されたはずです。\n",
    "<br>\n",
    "<br>\n",
    "今回使うデータセットは120行3列の行列がdataに格納されています。そしてXにdataの2列目までのデータセットを格納し、yにdataの3列目のデータを格納しています。下のセルを実行して、格納したdataの中身の一部分を確認してみましょう。\n",
    "\n",
    "部分的にdataの中身を確認する方法を知っていると便利です。下のセルを実行してみてください。"
   ]
  },
  {
   "cell_type": "code",
   "execution_count": 58,
   "metadata": {
    "collapsed": false
   },
   "outputs": [
    {
     "data": {
      "text/plain": [
       "array([[1.907017, 0.42823 , 0.      ],\n",
       "       [2.365571, 0.837132, 0.      ],\n",
       "       [1.020166, 1.089013, 1.      ],\n",
       "       [0.897959, 1.653931, 1.      ],\n",
       "       [1.910298, 1.183538, 1.      ]])"
      ]
     },
     "execution_count": 58,
     "metadata": {},
     "output_type": "execute_result"
    }
   ],
   "source": [
    "data[:5]"
   ]
  },
  {
   "cell_type": "code",
   "execution_count": 59,
   "metadata": {
    "collapsed": false
   },
   "outputs": [
    {
     "data": {
      "text/plain": [
       "array([[1.907017],\n",
       "       [2.365571],\n",
       "       [1.020166],\n",
       "       [0.897959],\n",
       "       [1.910298]])"
      ]
     },
     "execution_count": 59,
     "metadata": {},
     "output_type": "execute_result"
    }
   ],
   "source": [
    "data[:5,0][:,np.newaxis]"
   ]
  },
  {
   "cell_type": "code",
   "execution_count": 60,
   "metadata": {
    "collapsed": false
   },
   "outputs": [
    {
     "data": {
      "text/plain": [
       "array([[0.42823 ],\n",
       "       [0.837132],\n",
       "       [1.089013],\n",
       "       [1.653931],\n",
       "       [1.183538]])"
      ]
     },
     "execution_count": 60,
     "metadata": {},
     "output_type": "execute_result"
    }
   ],
   "source": [
    "data[:5,1][:,np.newaxis]"
   ]
  },
  {
   "cell_type": "code",
   "execution_count": 61,
   "metadata": {
    "collapsed": false
   },
   "outputs": [
    {
     "data": {
      "text/plain": [
       "array([[0.],\n",
       "       [0.],\n",
       "       [1.],\n",
       "       [1.],\n",
       "       [1.]])"
      ]
     },
     "execution_count": 61,
     "metadata": {},
     "output_type": "execute_result"
    }
   ],
   "source": [
    "data[:5,2][:,np.newaxis]"
   ]
  },
  {
   "cell_type": "markdown",
   "metadata": {},
   "source": [
    "実際に** X **と ** y ** のデータを確認しておきましょう。"
   ]
  },
  {
   "cell_type": "code",
   "execution_count": 62,
   "metadata": {
    "collapsed": false
   },
   "outputs": [
    {
     "data": {
      "text/plain": [
       "(120, 2)"
      ]
     },
     "execution_count": 62,
     "metadata": {},
     "output_type": "execute_result"
    }
   ],
   "source": [
    "X.shape"
   ]
  },
  {
   "cell_type": "code",
   "execution_count": 63,
   "metadata": {
    "collapsed": false
   },
   "outputs": [
    {
     "data": {
      "text/plain": [
       "(120,)"
      ]
     },
     "execution_count": 63,
     "metadata": {},
     "output_type": "execute_result"
    }
   ],
   "source": [
    "y.shape"
   ]
  },
  {
   "cell_type": "markdown",
   "metadata": {},
   "source": [
    "- ** X ** は訓練データ\n",
    "- ** y ** は目標変数"
   ]
  },
  {
   "cell_type": "markdown",
   "metadata": {},
   "source": [
    "## データセットの可視化"
   ]
  },
  {
   "cell_type": "markdown",
   "metadata": {},
   "source": [
    "### 生成したデータの表示\n",
    "\n",
    "可視化は機械学習の実装において大変重要な作業になります。開発を進める前にデータセットの性質を把握し、可視化する癖をつけておきましょう。\n",
    "\n",
    "今回生成したデータセットの横軸は「甘さ」、縦軸は「辛さ」とします。\n",
    "\n",
    "**【課題１４】** 可視化する関数plotData2(X, y)を書きましょう。横軸・縦軸は共に0から3のレンジになるようにしましょう。\n",
    "\n",
    "** Note： **\n",
    "- xlim と ylim で目盛りの幅を固定\n",
    "- xlabel と ylabel で横軸縦軸の凡例を記入\n",
    "\n",
    "参考：[matplotlib.pyplot 公式チュートリアル](http://matplotlib.org/api/pyplot_api.html)"
   ]
  },
  {
   "cell_type": "code",
   "execution_count": 65,
   "metadata": {
    "collapsed": false
   },
   "outputs": [],
   "source": [
    "#Coursemale-02 Step3 QuestionNumber14 4c0372952c4b60b43100512033b335b6\n",
    "def plotData2(X, y):\n",
    "###############ここを穴埋めしてください###############\n",
    "    plt.scatter(X[y==1,0], X[y==1,1], marker='o')\n",
    "    plt.scatter(X[y==0,0], X[y==0,1], marker='x')\n",
    "    plt.xlim([0,3])\n",
    "    plt.ylim([0,3])\n",
    "    plt.xlabel(u\"甘さ\")\n",
    "    plt.ylabel(u\"辛さ\")\n",
    "    plt.legend((u'y=1',u'y=0'))\n",
    "    plt.draw()   \n",
    "\n",
    "######################################################"
   ]
  },
  {
   "cell_type": "markdown",
   "metadata": {},
   "source": [
    "左上の**保存マークをクリックした後**、次のセルをShift+Enterで実行して採点します。"
   ]
  },
  {
   "cell_type": "code",
   "execution_count": 66,
   "metadata": {
    "collapsed": false,
    "scrolled": true
   },
   "outputs": [
    {
     "name": "stdout",
     "output_type": "stream",
     "text": [
      "Congratulations!\n",
      "We give you 10 points out of 10 points.\n",
      "\n"
     ]
    }
   ],
   "source": [
    "%%bash\n",
    "./validation_client.py male-02 3 14 Step3_02.ipynb api.internal.zero2one.jp"
   ]
  },
  {
   "cell_type": "code",
   "execution_count": 67,
   "metadata": {
    "collapsed": false
   },
   "outputs": [
    {
     "data": {
      "image/png": "[encoded data removed]",
      "text/plain": [
       "<matplotlib.figure.Figure at 0x7f7a92f1d4e0>"
      ]
     },
     "metadata": {},
     "output_type": "display_data"
    }
   ],
   "source": [
    "plotData2(X, y)"
   ]
  },
  {
   "cell_type": "markdown",
   "metadata": {},
   "source": [
    "### 多項式で特徴を増やす\n",
    "プロットしたグラフを見たら分かるように、このデータは直線ではy=0とy=1を分離できなさそうです。多項式で特徴を増やしましょう。"
   ]
  },
  {
   "cell_type": "code",
   "execution_count": 68,
   "metadata": {
    "collapsed": true
   },
   "outputs": [],
   "source": [
    "def polyFeature(X0, X1, degree):\n",
    "    X0 = X0[:, np.newaxis] #np.appendで付け足していくため、2-dimにする\n",
    "    X1 = X1[:, np.newaxis]\n",
    "    Xpoly = np.empty((X0.shape[0], 0)) # m行0列の配列を作成。これに新たな特徴を付け足していく。\n",
    "\n",
    "    for i in range(1, degree+1):\n",
    "        for j in range(i+1):\n",
    "            Xpoly = np.append(Xpoly, ((X0**(i-j)) * (X1**j)), axis=1)\n",
    "\n",
    "    return Xpoly"
   ]
  },
  {
   "cell_type": "markdown",
   "metadata": {},
   "source": [
    "次数は10次にします。"
   ]
  },
  {
   "cell_type": "code",
   "execution_count": 69,
   "metadata": {
    "collapsed": true
   },
   "outputs": [],
   "source": [
    "deg = 10 #次数10次"
   ]
  },
  {
   "cell_type": "code",
   "execution_count": 70,
   "metadata": {
    "collapsed": true
   },
   "outputs": [],
   "source": [
    "Xpoly = polyFeature(X[:,0], X[:,1], deg)"
   ]
  },
  {
   "cell_type": "markdown",
   "metadata": {},
   "source": [
    "このとき、特徴の数はいくつになるでしょうか。考えてみましょう。答えは`Xpoly.shape[1]`で確認しましょう。"
   ]
  },
  {
   "cell_type": "code",
   "execution_count": 71,
   "metadata": {
    "collapsed": false
   },
   "outputs": [
    {
     "data": {
      "text/plain": [
       "65"
      ]
     },
     "execution_count": 71,
     "metadata": {},
     "output_type": "execute_result"
    }
   ],
   "source": [
    "Xpoly.shape[1]"
   ]
  },
  {
   "cell_type": "markdown",
   "metadata": {},
   "source": [
    "### 学習\n",
    "目的関数を最適化しましょう。\n",
    "\n",
    "**【課題１５】** 目的関数を最適化しましょう。これまで作った関数 cost(theta, X, y)`と`grad(theta, X, y)`は特徴の数が増えても対応できるようになっています。（`cost(theta, X, y)`と`grad(theta, X, y)`のコードを読み直して、今回のケースでもそのまま流用できることを改めて理解しましょう）\n",
    "<br><br>\n",
    "** ヒント： **\n",
    "- 「** 勾配法による最適化 **」で行なったSciPyの最適化アルゴリズムを使います。\n",
    "- 最適化するパラメータθの初期値：initial_thetaPoly\n",
    "- argsには Xpoly と y を渡します。"
   ]
  },
  {
   "cell_type": "code",
   "execution_count": 76,
   "metadata": {
    "collapsed": false
   },
   "outputs": [
    {
     "name": "stdout",
     "output_type": "stream",
     "text": [
      "Warning: Desired error not necessarily achieved due to precision loss.\n",
      "         Current function value: 0.078389\n",
      "         Iterations: 33\n",
      "         Function evaluations: 85\n",
      "         Gradient evaluations: 59\n"
     ]
    },
    {
     "name": "stderr",
     "output_type": "stream",
     "text": [
      "/opt/conda/lib/python3.5/site-packages/ipykernel/__main__.py:8: RuntimeWarning: divide by zero encountered in log\n",
      "/opt/conda/lib/python3.5/site-packages/ipykernel/__main__.py:8: RuntimeWarning: divide by zero encountered in log\n",
      "/opt/conda/lib/python3.5/site-packages/ipykernel/__main__.py:8: RuntimeWarning: divide by zero encountered in log\n",
      "/opt/conda/lib/python3.5/site-packages/ipykernel/__main__.py:8: RuntimeWarning: divide by zero encountered in log\n",
      "/opt/conda/lib/python3.5/site-packages/ipykernel/__main__.py:8: RuntimeWarning: divide by zero encountered in log\n",
      "/opt/conda/lib/python3.5/site-packages/ipykernel/__main__.py:8: RuntimeWarning: divide by zero encountered in log\n",
      "/opt/conda/lib/python3.5/site-packages/ipykernel/__main__.py:8: RuntimeWarning: divide by zero encountered in log\n",
      "/opt/conda/lib/python3.5/site-packages/ipykernel/__main__.py:8: RuntimeWarning: divide by zero encountered in log\n"
     ]
    }
   ],
   "source": [
    "#Coursemale-02 Step3 QuestionNumber15 ac63d61e18c07b936244df0ba23ad032\n",
    "m, nPoly = Xpoly.shape #訓練例の数はm個, 特徴の数はn個\n",
    "initial_thetaPoly = np.zeros(nPoly+1) # フィッティングパラメータの初期値は全部ゼロ 1-dimのndarray\n",
    "###############ここを穴埋めしてください###############\n",
    "res = scopt.minimize(cost, initial_thetaPoly, jac=grad, args=(Xpoly, y), method='BFGS', options={'maxiter': 400, 'disp': True})\n",
    "######################################################"
   ]
  },
  {
   "cell_type": "markdown",
   "metadata": {},
   "source": [
    "左上の**保存マークをクリックした後**、次のセルをShift+Enterで実行して採点します。"
   ]
  },
  {
   "cell_type": "code",
   "execution_count": 77,
   "metadata": {
    "collapsed": false,
    "scrolled": true
   },
   "outputs": [
    {
     "name": "stdout",
     "output_type": "stream",
     "text": [
      "Congratulations!\n",
      "We give you 10 points out of 10 points.\n",
      "\n"
     ]
    }
   ],
   "source": [
    "%%bash\n",
    "./validation_client.py male-02 3 15 Step3_02.ipynb api.internal.zero2one.jp"
   ]
  },
  {
   "cell_type": "markdown",
   "metadata": {},
   "source": [
    "学習結果を出力しましょう。"
   ]
  },
  {
   "cell_type": "code",
   "execution_count": 78,
   "metadata": {
    "collapsed": false
   },
   "outputs": [
    {
     "name": "stdout",
     "output_type": "stream",
     "text": [
      "最小化されたJの値(cost)は:  0.07838944854896154\n",
      "そのときのthetaは： [-2.18259965 -1.45206272 -1.1259988  -1.06081502 -0.25327679 -0.46711944\n",
      " -0.81019515  0.22566037  0.43206291 -0.07355646 -0.60113765  0.56037003\n",
      "  0.81568601  0.77052879  0.09446636 -0.38626283  0.84388554  0.98997006\n",
      "  0.93491413  0.82110277  0.03547046 -0.16818437  1.05925235  1.03121754\n",
      "  0.81434673  0.70140194  0.61256591 -0.22580902 -0.02321529  1.06682854\n",
      "  0.86104739  0.49446079  0.28540223  0.24648014  0.23630681 -0.52571689\n",
      " -0.10693262  0.61507826  0.31206428 -0.075631   -0.2557912  -0.26182724\n",
      " -0.16809044 -0.04858016 -0.44783735 -0.44579739 -0.36338908 -0.51859892\n",
      " -0.72943814 -0.72592355 -0.55826012 -0.34663563 -0.14783399  0.10083622\n",
      "  0.39578079  0.24803674 -0.24184167  0.29134208  0.2838865   0.16172521\n",
      "  0.10847806  0.13997251  0.1834168   0.10739252 -0.1280487  -0.03833563]\n"
     ]
    }
   ],
   "source": [
    "Jpoly = res.fun\n",
    "thetaPoly = res.x\n",
    "print(\"最小化されたJの値(cost)は: \", Jpoly)\n",
    "print(\"そのときのthetaは：\", thetaPoly)"
   ]
  },
  {
   "cell_type": "markdown",
   "metadata": {},
   "source": [
    "### 決定境界\n",
    "決定境界を引く関数`plotDataWithDB2(X, y, theta, deg)`を作ります。今回は複雑な曲線であるため、これまでのように端と端を計算してplotし直線を引くという手法が使えません。どうすればよいでしょうか。\n",
    "\n",
    "ここで使う手法はよく使われるので、是非コードを熟読して下さい。"
   ]
  },
  {
   "cell_type": "code",
   "execution_count": 79,
   "metadata": {
    "collapsed": true
   },
   "outputs": [],
   "source": [
    "def plotDataWithDB2(X, y, theta, deg):\n",
    "    #課題８で実装してもらった関数です\n",
    "    plotData2(X,y)\n",
    "    \n",
    "    #このセル内で直前にプロットしたものに上書きしていきます\n",
    "    plt.hold(True)\n",
    "    \n",
    "    #横軸も縦軸も0から3まで、均等に50サンプル取ってきます。\n",
    "    X0_lin = np.linspace(0, 3, 50)\n",
    "    X1_lin = np.linspace(0, 3, 50)\n",
    "    \n",
    "    #そしてこの50×50=2500個の地点におけるx(バイアス込み)とthetaの内積をそれぞれ計算してきます。\n",
    "    y_plot = np.empty((X0_lin.size, X1_lin.size))\n",
    "    \n",
    "    for i in range(X0_lin.size):\n",
    "        for j in range(X1_lin.size):\n",
    "            y_plot[i, j] = np.c_[[1], polyFeature( np.array([X0_lin[i]]), np.array([X1_lin[j]]), deg)].dot(theta)\n",
    "    \n",
    "    #この2500個のサンプルに対して、等高線を引きます。値がゼロのところが決定境界ですので、levels=[0]のみ等高線を引きます。\n",
    "    plt.contour(X0_lin, X1_lin, y_plot.T, levels=[0])\n",
    "    \n",
    "    #念のため、グラフのレンジをもう一度指定しておきます。\n",
    "    plt.xlim([0,3])\n",
    "    plt.ylim([0,3])\n",
    "    \n",
    "    plt.show()"
   ]
  },
  {
   "cell_type": "markdown",
   "metadata": {},
   "source": [
    "あとは実行するだけです。多少描画に時間がかかるかもしれません。"
   ]
  },
  {
   "cell_type": "code",
   "execution_count": 80,
   "metadata": {
    "collapsed": false
   },
   "outputs": [
    {
     "name": "stderr",
     "output_type": "stream",
     "text": [
      "/opt/conda/lib/python3.5/site-packages/numpy/ma/core.py:6442: MaskedArrayFutureWarning: In the future the default for ma.minimum.reduce will be axis=0, not the current None, to match np.minimum.reduce. Explicitly pass 0 or None to silence this warning.\n",
      "  return self.reduce(a)\n",
      "/opt/conda/lib/python3.5/site-packages/numpy/ma/core.py:6442: MaskedArrayFutureWarning: In the future the default for ma.maximum.reduce will be axis=0, not the current None, to match np.maximum.reduce. Explicitly pass 0 or None to silence this warning.\n",
      "  return self.reduce(a)\n"
     ]
    },
    {
     "data": {
      "image/png": "[encoded data removed]",
      "text/plain": [
       "<matplotlib.figure.Figure at 0x7f7a92f28c50>"
      ]
     },
     "metadata": {},
     "output_type": "display_data"
    }
   ],
   "source": [
    "plotDataWithDB2(X, y, thetaPoly, deg)"
   ]
  },
  {
   "cell_type": "markdown",
   "metadata": {},
   "source": [
    "### 訓練集合に対する予測精度\n",
    "最後に、訓練集合に対する予測精度を計算しましょう。\n",
    "\n",
    "**【課題１６】** 訓練集合に対する予測精度を計算しましょう。先ほど作った`predict(theta, X)`は今回のケースでもそのまま使えます。余力のある人は当該コードを読み直しましょう。\n",
    "<br><br>\n",
    "** ヒント： **\n",
    "- predict()には、thetaPoly と Xpolyを渡し、変数predictXpolyに格納します。\n",
    "- accuracyPolyは predictXpoly を使って求めた正解率を格納します。"
   ]
  },
  {
   "cell_type": "code",
   "execution_count": 81,
   "metadata": {
    "collapsed": false
   },
   "outputs": [
    {
     "name": "stdout",
     "output_type": "stream",
     "text": [
      "学習精度は 99.2 %\n"
     ]
    }
   ],
   "source": [
    "#Coursemale-02 Step3 QuestionNumber16 4a8919725b23e66165d012c1f3319d5e\n",
    "###############ここを穴埋めしてください###############\n",
    "predictXpoly = predict(thetaPoly, Xpoly)\n",
    "accuracyPoly = (predictXpoly == y).mean()\n",
    "######################################################\n",
    "print(\"学習精度は %2.1f\"% (accuracyPoly*100), \"%\")"
   ]
  },
  {
   "cell_type": "markdown",
   "metadata": {},
   "source": [
    "左上の**保存マークをクリックした後**、次のセルをShift+Enterで実行して採点します。"
   ]
  },
  {
   "cell_type": "code",
   "execution_count": 82,
   "metadata": {
    "collapsed": false,
    "scrolled": true
   },
   "outputs": [
    {
     "name": "stdout",
     "output_type": "stream",
     "text": [
      "Congratulations!\n",
      "We give you 10 points out of 10 points.\n",
      "\n"
     ]
    }
   ],
   "source": [
    "%%bash\n",
    "./validation_client.py male-02 3 16 Step3_02.ipynb api.internal.zero2one.jp"
   ]
  },
  {
   "cell_type": "markdown",
   "metadata": {},
   "source": [
    "---\n",
    "## L2正則化（Ridge回帰）\n"
   ]
  },
  {
   "cell_type": "markdown",
   "metadata": {},
   "source": [
    "先ほどプロットした決定境界をもう一度よく見て下さい。たしかに訓練集合に対してうまくフィッティングできていますが、妙なところに決定境界があったりします。この決定境界はさすがに何だか変です。この図の中に新たな例をプロットしたとしましょう。その新たな地点に関して上手く予測できると思いますか。変な予測をしそうなところが沢山あると思います。つまりオーバーフィッティングしてしまっているのです。\n",
    "\n",
    "L2正則化を行い、オーバーフィッティング対策を行いましょう。"
   ]
  },
  {
   "cell_type": "markdown",
   "metadata": {},
   "source": [
    "### 目的関数とその勾配"
   ]
  },
  {
   "cell_type": "markdown",
   "metadata": {},
   "source": [
    "L2正則化は、目的関数を以下のように変えれば良いのでした。\n",
    "$$J(\\boldsymbol{\\theta}) = J_{\\mathrm{original}}(\\boldsymbol{\\theta}) + \\frac{\\lambda}{2m}\\sum^{n}_{j=1}\\theta_j^2 $$\n",
    "ここでいう$J_{\\mathrm{original}}(\\boldsymbol{\\theta})$とは、元々の目的関数のことです。これに、正則化項$\\frac{\\lambda}{2m}\\sum^{n}_{j=1}\\theta_j^2$を付け足せば、正則化が行えます。\n",
    "また正則化したとき、目的関数の勾配は\n",
    "$$\\frac{\\partial}{\\partial \\theta_j}J(\\boldsymbol{\\theta}) =\\begin{cases} \\frac{\\partial}{\\partial \\theta_0}J_{\\mathrm{original}}(\\boldsymbol{\\theta}) &\\mathrm{if}\\;\\;j=0\\\\\n",
    "\\frac{\\partial}{\\partial \\theta_j}J_{\\mathrm{original}}(\\boldsymbol{\\theta}) + \\frac{\\lambda}{m}\\theta_j \\;\\;&\\mathrm{if}\\;\\;j\\neq0 \\end{cases}$$\n",
    "となります。ではこれを実装しましょう。"
   ]
  },
  {
   "cell_type": "code",
   "execution_count": 83,
   "metadata": {
    "collapsed": true
   },
   "outputs": [],
   "source": [
    "#正則化された目的関数\n",
    "def costReg(theta, X, y, lmd):\n",
    "    m = y.size\n",
    "    J = cost(theta, X, y)\n",
    "\n",
    "    J = J + lmd * np.square(np.linalg.norm(theta[1:])) / (2 * m)\n",
    "\n",
    "    return J"
   ]
  },
  {
   "cell_type": "markdown",
   "metadata": {},
   "source": [
    "**【課題１７】** 正則化された目的関数の勾配を計算する関数`gradReg(theta, X, y, lmd)`を書きましょう。以下に、その一部がすでに書き込まれていますので、穴埋めしてください。"
   ]
  },
  {
   "cell_type": "code",
   "execution_count": 84,
   "metadata": {
    "collapsed": true
   },
   "outputs": [],
   "source": [
    "#Coursemale-02 Step3 QuestionNumber17 d0f633d12e2903afd1ca206ba44668a6\n",
    "def gradReg(theta, X, y, lmd):\n",
    "    m = y.size\n",
    "    g = grad(theta, X, y)\n",
    "    theta[0] = 0 #0番目の成分は正則化項に含めないため、0にしておきます。\n",
    "    \n",
    "###############ここを穴埋めしてください###############\n",
    "    g = g + lmd * theta / m\n",
    "######################################################\n",
    "\n",
    "    return g"
   ]
  },
  {
   "cell_type": "markdown",
   "metadata": {},
   "source": [
    "左上の**保存マークをクリックした後**、次のセルをShift+Enterで実行して採点します。"
   ]
  },
  {
   "cell_type": "code",
   "execution_count": 85,
   "metadata": {
    "collapsed": false,
    "scrolled": true
   },
   "outputs": [
    {
     "name": "stdout",
     "output_type": "stream",
     "text": [
      "Congratulations!\n",
      "We give you 10 points out of 10 points.\n",
      "\n"
     ]
    }
   ],
   "source": [
    "%%bash\n",
    "./validation_client.py male-02 3 17 Step3_02.ipynb api.internal.zero2one.jp"
   ]
  },
  {
   "cell_type": "markdown",
   "metadata": {},
   "source": [
    "正則化パラメータはとりあえず100にします。pythonでは「lambda」はラムダ式を意味するので、変数の名前には使えません。`lmd`などを利用しましょう。一通り課題を終えたら正則化パラメータ`lmd`を色々変えてみましょう。"
   ]
  },
  {
   "cell_type": "code",
   "execution_count": 86,
   "metadata": {
    "collapsed": true
   },
   "outputs": [],
   "source": [
    "lmd = 100"
   ]
  },
  {
   "cell_type": "markdown",
   "metadata": {},
   "source": [
    "書いた関数が走るかどうか調べるため、$\\boldsymbol{\\theta}$の初期値に対して目的関数とその勾配を計算してみましょう。本当に正しい値が出力されているかどうかはこれだけでは不明ですが、走らなかったらどこかがおかしいということになります。"
   ]
  },
  {
   "cell_type": "code",
   "execution_count": 87,
   "metadata": {
    "collapsed": false,
    "scrolled": true
   },
   "outputs": [
    {
     "name": "stdout",
     "output_type": "stream",
     "text": [
      "初期のθ（全部ゼロ）でのJの値(cost)は: 0.6931471805599453\n",
      "初期のθ（全部ゼロ）でのJの勾配(grad)は：\n",
      "[ 0.00000000e+00  6.53983333e-04 -4.74871250e-03  8.33901706e-02\n",
      " -1.48424544e-02  5.84353159e-02  3.74446622e-01  8.50324912e-02\n",
      "  6.61168729e-02  2.94514446e-01  1.21771750e+00  4.67513802e-01\n",
      "  2.67830999e-01  3.91948981e-01  9.91933533e-01  3.50350010e+00\n",
      "  1.60909432e+00  9.56130553e-01  8.89461376e-01  1.37599019e+00\n",
      "  2.90618173e+00  9.49616826e+00  4.75218297e+00  2.92106432e+00\n",
      "  2.35407719e+00  2.65051214e+00  4.11027012e+00  7.97996323e+00\n",
      "  2.49007311e+01  1.30715148e+01  8.19481458e+00  6.26191040e+00\n",
      "  6.00215251e+00  7.37547372e+00  1.14233156e+01  2.11584345e+01\n",
      "  6.40054945e+01  3.45922593e+01  2.19160365e+01  1.63218097e+01\n",
      "  1.44047855e+01  1.53006750e+01  1.97457778e+01  3.05617887e+01\n",
      "  5.49458758e+01  1.62456943e+02  8.94634018e+01  5.69626706e+01\n",
      "  4.17426866e+01  3.51404550e+01  3.41794635e+01  3.88091660e+01\n",
      "  5.16795591e+01  7.99567084e+01  1.40812812e+02  4.08964274e+02\n",
      "  2.28050241e+02  1.45431849e+02  1.05257702e+02  8.59207538e+01\n",
      "  7.90478491e+01  8.23966916e+01  9.80089012e+01  1.33358386e+02\n",
      "  2.06240083e+02  3.57697322e+02]\n"
     ]
    }
   ],
   "source": [
    "cost_initReg = costReg(initial_thetaPoly, Xpoly, y, lmd)\n",
    "grad_initReg = gradReg(initial_thetaPoly, Xpoly, y, lmd)\n",
    "\n",
    "\n",
    "print(\"初期のθ（全部ゼロ）でのJの値(cost)は: \",end=\"\")\n",
    "print(cost_initReg)\n",
    "print(\"初期のθ（全部ゼロ）でのJの勾配(grad)は：\")\n",
    "print(grad_initReg)"
   ]
  },
  {
   "cell_type": "markdown",
   "metadata": {},
   "source": [
    "### 学習\n",
    "正則化された目的関数を最適化しましょう。\n",
    "\n",
    "**【課題１８】** 正則化された目的関数を最適化しましょう。\n",
    "\n",
    "** Note： **\n",
    "- 「** 勾配法による最適化 **」で行なったSciPyの最適化アルゴリズムを使います。\n",
    "- 目的関数：costReg\n",
    "- 最適化するパラメータθの初期値：initial_thetaPoly\n",
    "- 目的関数の勾配：gradReg\n",
    "- args：Xpoly,y,lmdを渡す"
   ]
  },
  {
   "cell_type": "code",
   "execution_count": 92,
   "metadata": {
    "collapsed": false,
    "scrolled": false
   },
   "outputs": [
    {
     "name": "stdout",
     "output_type": "stream",
     "text": [
      "Optimization terminated successfully.\n",
      "         Current function value: 0.177332\n",
      "         Iterations: 109\n",
      "         Function evaluations: 127\n",
      "         Gradient evaluations: 118\n"
     ]
    },
    {
     "name": "stderr",
     "output_type": "stream",
     "text": [
      "/opt/conda/lib/python3.5/site-packages/ipykernel/__main__.py:8: RuntimeWarning: divide by zero encountered in log\n",
      "/opt/conda/lib/python3.5/site-packages/ipykernel/__main__.py:8: RuntimeWarning: divide by zero encountered in log\n"
     ]
    }
   ],
   "source": [
    "#Coursemale-02 Step3 QuestionNumber18 e395fd666672f5aa247931fde5e99011\n",
    "###############ここを穴埋めしてください###############\n",
    "res = scopt.minimize(costReg, initial_thetaPoly, jac=gradReg, args=(Xpoly,y,lmd), method='BFGS', options={'maxiter': 400, 'disp': True})\n",
    "######################################################"
   ]
  },
  {
   "cell_type": "markdown",
   "metadata": {},
   "source": [
    "左上の**保存マークをクリックした後**、次のセルをShift+Enterで実行して採点します。"
   ]
  },
  {
   "cell_type": "code",
   "execution_count": 93,
   "metadata": {
    "collapsed": false,
    "scrolled": true
   },
   "outputs": [
    {
     "name": "stdout",
     "output_type": "stream",
     "text": [
      "Congratulations!\n",
      "We give you 10 points out of 10 points.\n",
      "\n"
     ]
    }
   ],
   "source": [
    "%%bash\n",
    "./validation_client.py male-02 3 18 Step3_02.ipynb api.internal.zero2one.jp"
   ]
  },
  {
   "cell_type": "code",
   "execution_count": 94,
   "metadata": {
    "collapsed": false,
    "scrolled": true
   },
   "outputs": [
    {
     "name": "stdout",
     "output_type": "stream",
     "text": [
      "最小化されたJの値(cost)は:  0.17733167648402542\n",
      "そのときのthetaは： [-1.41021660e+00  7.03413787e-03  8.97486768e-03  9.79243983e-03\n",
      "  1.96757766e-02  1.43792285e-02  1.02327632e-02  2.57249576e-02\n",
      "  2.80746681e-02  1.76013455e-02  9.03666395e-03  3.02617912e-02\n",
      "  3.56441012e-02  3.41921447e-02  1.88200958e-02  6.32114191e-03\n",
      "  3.48334737e-02  4.13446247e-02  4.19932131e-02  3.84609413e-02\n",
      "  1.72021545e-02  1.94742460e-03  4.03096046e-02  4.69447747e-02\n",
      "  4.64234757e-02  4.51466380e-02  4.01088693e-02  1.09554132e-02\n",
      " -4.25907606e-03  4.69640129e-02  5.24904706e-02  4.86674719e-02\n",
      "  4.55571361e-02  4.39171851e-02  3.73565684e-02 -2.15094131e-03\n",
      " -1.22623696e-02  5.36545552e-02  5.51508522e-02  4.56764790e-02\n",
      "  3.90417095e-02  3.67104703e-02  3.60406524e-02  2.83433596e-02\n",
      " -2.22156632e-02 -2.16825661e-02  5.49946270e-02  4.49710394e-02\n",
      "  2.60162723e-02  1.57175588e-02  1.39484042e-02  1.67705194e-02\n",
      "  1.99503079e-02  1.49395382e-02 -3.83344721e-02 -3.27648266e-02\n",
      "  3.32180399e-02 -6.54093388e-03 -4.20414174e-02 -5.38574457e-02\n",
      " -4.74312732e-02 -3.21590330e-02 -1.50844932e-02  1.08194066e-03\n",
      "  1.51128287e-02 -2.47272164e-03]\n"
     ]
    }
   ],
   "source": [
    "Jreg = res.fun\n",
    "thetaReg = res.x\n",
    "print(\"最小化されたJの値(cost)は: \", Jreg)\n",
    "print(\"そのときのthetaは：\", thetaReg)"
   ]
  },
  {
   "cell_type": "markdown",
   "metadata": {},
   "source": [
    "### 決定境界\n",
    "この結果をもとに決定境界を掃引しましょう。\n",
    "\n",
    "**【課題１９】** 決定境界を`plotDataWithDB2(X, y, theta, deg)`を使って描画しましょう。"
   ]
  },
  {
   "cell_type": "code",
   "execution_count": 96,
   "metadata": {
    "collapsed": false,
    "scrolled": true
   },
   "outputs": [
    {
     "name": "stderr",
     "output_type": "stream",
     "text": [
      "/opt/conda/lib/python3.5/site-packages/numpy/ma/core.py:6442: MaskedArrayFutureWarning: In the future the default for ma.minimum.reduce will be axis=0, not the current None, to match np.minimum.reduce. Explicitly pass 0 or None to silence this warning.\n",
      "  return self.reduce(a)\n",
      "/opt/conda/lib/python3.5/site-packages/numpy/ma/core.py:6442: MaskedArrayFutureWarning: In the future the default for ma.maximum.reduce will be axis=0, not the current None, to match np.maximum.reduce. Explicitly pass 0 or None to silence this warning.\n",
      "  return self.reduce(a)\n"
     ]
    },
    {
     "data": {
      "image/png": "[encoded data removed]",
      "text/plain": [
       "<matplotlib.figure.Figure at 0x7f7a98b06128>"
      ]
     },
     "metadata": {},
     "output_type": "display_data"
    }
   ],
   "source": [
    "#Coursemale-02 Step3 QuestionNumber19 e0c9780aff7f73ea9b5cd8ce25906726\n",
    "###############ここを穴埋めしてください###############\n",
    "plotDataWithDB2(Xpoly, y, thetaPoly, deg)\n",
    "######################################################"
   ]
  },
  {
   "cell_type": "markdown",
   "metadata": {},
   "source": [
    "左上の**保存マークをクリックした後**、次のセルをShift+Enterで実行して採点します。"
   ]
  },
  {
   "cell_type": "code",
   "execution_count": 97,
   "metadata": {
    "collapsed": false,
    "scrolled": true
   },
   "outputs": [
    {
     "name": "stdout",
     "output_type": "stream",
     "text": [
      "Congratulations!\n",
      "We give you 10 points out of 10 points.\n",
      "\n"
     ]
    }
   ],
   "source": [
    "%%bash\n",
    "./validation_client.py male-02 3 19 Step3_02.ipynb api.internal.zero2one.jp"
   ]
  },
  {
   "cell_type": "markdown",
   "metadata": {},
   "source": [
    "多少決定境界からはみ出てしまった訓練例がありますが、違和感のある決定境界は少なくとも描画した範囲内ではなくなっていることが分かります。これならば、新しいデータに対しても妥当な推測を行えそうです。"
   ]
  },
  {
   "cell_type": "markdown",
   "metadata": {},
   "source": [
    "### 訓練集合に対する予測精度\n",
    "最後に、訓練集合に対する予測精度を計算しましょう。\n",
    "\n",
    "**【課題２０】** 訓練集合に対する予測精度を計算しましょう。"
   ]
  },
  {
   "cell_type": "code",
   "execution_count": 99,
   "metadata": {
    "collapsed": false
   },
   "outputs": [
    {
     "name": "stdout",
     "output_type": "stream",
     "text": [
      "学習精度は 99.2 %\n"
     ]
    }
   ],
   "source": [
    "#Coursemale-02 Step3 QuestionNumber20 547338cb5c4c1c3a0467c4d509f568c4\n",
    "###############ここを穴埋めしてください###############\n",
    "predictXreg = predict(thetaPoly, Xpoly)\n",
    "accuracyReg = (predictXreg == y).mean()\n",
    "######################################################\n",
    "print(\"学習精度は %2.1f\"% (accuracyReg*100), \"%\")"
   ]
  },
  {
   "cell_type": "markdown",
   "metadata": {},
   "source": [
    "左上の**保存マークをクリックした後**、次のセルをShift+Enterで実行して採点します。"
   ]
  },
  {
   "cell_type": "code",
   "execution_count": 100,
   "metadata": {
    "collapsed": false,
    "scrolled": true
   },
   "outputs": [
    {
     "name": "stdout",
     "output_type": "stream",
     "text": [
      "Congratulations!\n",
      "We give you 10 points out of 10 points.\n",
      "\n"
     ]
    }
   ],
   "source": [
    "%%bash\n",
    "./validation_client.py male-02 3 20 Step3_02.ipynb api.internal.zero2one.jp"
   ]
  },
  {
   "cell_type": "markdown",
   "metadata": {
    "collapsed": true
   },
   "source": [
    "学習精度は正則化しないときに比べて落ちていることが分かります。学習精度は、そのモデルがよりよく推測できるかどうかの指標として、単純には扱えないことが分かります。Step6で、この数字をいかに読み解くかということを、詳しく説明します。"
   ]
  },
  {
   "cell_type": "markdown",
   "metadata": {},
   "source": [
    "---\n",
    "## 終わりに\n",
    "今回はロジスティック回帰の実装、多項式による特徴の拡張、正則化について実習しました。特に、正則化についてはよく体感的に把握していただきたいので、正則化パラメータを色々変えながらよく復習して下さい。\n",
    "\n",
    "これらの実装はもちろんscikit-learnでも行われています。これは次のStepで扱います。"
   ]
  },
  {
   "cell_type": "code",
   "execution_count": null,
   "metadata": {
    "collapsed": true
   },
   "outputs": [],
   "source": []
  }
 ],
 "metadata": {
  "anaconda-cloud": {},
  "kernelspec": {
   "display_name": "Python [default]",
   "language": "python",
   "name": "python3"
  },
  "language_info": {
   "codemirror_mode": {
    "name": "ipython",
    "version": 3
   },
   "file_extension": ".py",
   "mimetype": "text/x-python",
   "name": "python",
   "nbconvert_exporter": "python",
   "pygments_lexer": "ipython3",
   "version": "3.5.2"
  },
  "toc": {
   "nav_menu": {
    "height": "458px",
    "width": "252px"
   },
   "navigate_menu": true,
   "number_sections": true,
   "sideBar": true,
   "threshold": 4,
   "toc_cell": false,
   "toc_section_display": "block",
   "toc_window_display": true
  }
 },
 "nbformat": 4,
 "nbformat_minor": 1
}
