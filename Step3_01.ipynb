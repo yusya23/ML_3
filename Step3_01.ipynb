{
 "cells": [
  {
   "cell_type": "markdown",
   "metadata": {},
   "source": [
    "# Step3 演習01 ロジスティック回帰の基礎\n",
    "---"
   ]
  },
  {
   "cell_type": "markdown",
   "metadata": {},
   "source": [
    "Step3 演習01では、教師あり学習の一種である離散値を予測するロジスティック回帰を実装します。\n",
    "\n",
    "ロジスティック回帰は「教師あり学習」です。\n",
    "\n",
    "与えられた特徴データ  $x$  に対し、それが何を意味しているのかを表す答えとなる正解（ラベル） $y$  が用意されています。\n",
    "\n",
    "例えば、ある製品試験に不合格だった個数[個]に対し、そのときの工場が「正常稼働していたか」・「異常稼働していたか」という離散値を予測するときに利用される機械学習の一つです。\n",
    "\n",
    "線形回帰との違いを意識しながら演習を進めるようにしましょう。\n",
    "\n",
    "** はじめに **\n",
    "\n",
    "* for文やwhile文の利用は明示的な利用指示がない場所での使用は避けてください。\n",
    "\n",
    "** 本演習の目的 **\n",
    "\n",
    "* 線形回帰との違いを意識しながらロジスティック回帰の実装をする。\n",
    "* 分類問題の実装を体験する。"
   ]
  },
  {
   "cell_type": "markdown",
   "metadata": {},
   "source": [
    "## ライブラリのインポート"
   ]
  },
  {
   "cell_type": "markdown",
   "metadata": {},
   "source": [
    "まずはじめに、利用するライブラリのインポートを行います。\n",
    "\n",
    "- [Numpy](http://www.numpy.org/)　数値計算を行うための基本パッケージの公式ドキュメント\n",
    "- [Matplotlib](https://matplotlib.org/)　グラフ描画ライブラリの基本パッケージの公式ドキュメント\n",
    "\n",
    "ドキュメントには有用な情報が書き記されています。何か迷ったときには必ずドキュメントに戻ってくるようにしましょう。\n",
    "\n",
    "次のセルをそのまま実行（\"SHIFT\" + \"ENTER\"）してください。コードが書いてあるセルは**上から順番**に順次実行してください。\n",
    "\n",
    "** 注意：** 初めてmatplotlibを使うユーザーは、フォント一覧のキャッシュが存在しないため、このセルの実行でWarningが出ます。もう一度実行すると、すでにキャッシュができているので、Warningなく走ります。"
   ]
  },
  {
   "cell_type": "code",
   "execution_count": 2,
   "metadata": {
    "collapsed": false
   },
   "outputs": [],
   "source": [
    "%matplotlib inline\n",
    "import numpy as np\n",
    "import matplotlib.pyplot as plt\n",
    "font = {'family':'IPAexGothic'}\n",
    "plt.rc('font', **font)"
   ]
  },
  {
   "cell_type": "markdown",
   "metadata": {},
   "source": [
    "## 訓練データセットの準備"
   ]
  },
  {
   "cell_type": "markdown",
   "metadata": {},
   "source": [
    "製品試験で不合格だった製品の個数から、その製品を製造した工場が「正常稼働」か「異常稼働」を判断する分類問題に取り組みます。\n",
    "\n",
    "ここでは以下のようなデータセット$X$, $y$を用います。\n",
    "\n",
    "- $X$は製品試験に不合格だった製品の個数\n",
    "- $y$は製品を製造した工場が「正常稼働」か「異常稼働」かを示すラベル\n",
    "\n",
    "まず$X$のデータセットを用意しましょう。$X$は「関数np.arange(a, b, c)」を使って用意します。この関数は、aからbまでの数字（ただしbは含まない）をc刻みで生成し、それらを要素とする配列を生成します。<br>\n",
    "\n",
    "例）np.arange(1, 6, 2)は[1, 3, 5]を生成"
   ]
  },
  {
   "cell_type": "code",
   "execution_count": 3,
   "metadata": {
    "collapsed": true
   },
   "outputs": [],
   "source": [
    "# 分類問題のデータセットXを作成\n",
    "m = 22 # 不合格だった個数の最大数\n",
    "X = np.arange(0, m, 1) # 0からm-1個の不合格だった個数を生成"
   ]
  },
  {
   "cell_type": "markdown",
   "metadata": {},
   "source": [
    "Xがどのように生成されたか確認して見ましょう："
   ]
  },
  {
   "cell_type": "code",
   "execution_count": 4,
   "metadata": {
    "collapsed": false
   },
   "outputs": [
    {
     "data": {
      "text/plain": [
       "array([ 0,  1,  2,  3,  4,  5,  6,  7,  8,  9, 10, 11, 12, 13, 14, 15, 16,\n",
       "       17, 18, 19, 20, 21])"
      ]
     },
     "execution_count": 4,
     "metadata": {},
     "output_type": "execute_result"
    }
   ],
   "source": [
    "X"
   ]
  },
  {
   "cell_type": "markdown",
   "metadata": {},
   "source": [
    "次に、製品を製造した工場が「正常稼働」か「異常稼働」かを示すラベルのデータセット$y$を用意します。ラベルが「0」の場合は正常、「1」の場合は異常とします。\n",
    "\n",
    "- ０：正常\n",
    "- １：異常\n",
    "\n",
    "データセット$y$は「関数np.where(condition, a, b)」を使って用意します。この関数は、はNumPy配列を含む条件conditionが成立してれば「a」、成立していなければbを要素とする配列を生成します。具体的には以下の通りです<br>\n",
    "\n",
    "例）下記のコードは配列[20, 10, 20, 10]を生成します。「x == 2」のところに「10」、それ以外のところに「20」を要素とする配列を生成するのからです。<br>\n",
    "x = np.array([1, 2, 3, 2])<br>\n",
    "np.where(x == 2, 10, 20)<br>"
   ]
  },
  {
   "cell_type": "markdown",
   "metadata": {},
   "source": [
    "以下のコードで、Xの値が10より大きい（つまり、不合格となった製品の個数が10より大きい）場合は「1」というラベル、それ以外は「0」というラベルになるようなデータセットを用意しましょう。"
   ]
  },
  {
   "cell_type": "code",
   "execution_count": 5,
   "metadata": {
    "collapsed": true
   },
   "outputs": [],
   "source": [
    "# 分類問題のデータセットy（正解ラベル）を作成\n",
    "y = np.where(X > 10, 1, 0)"
   ]
  },
  {
   "cell_type": "markdown",
   "metadata": {},
   "source": [
    "$y$の中身を確認しましょう。"
   ]
  },
  {
   "cell_type": "code",
   "execution_count": 6,
   "metadata": {
    "collapsed": false
   },
   "outputs": [
    {
     "data": {
      "text/plain": [
       "array([0, 0, 0, 0, 0, 0, 0, 0, 0, 0, 0, 1, 1, 1, 1, 1, 1, 1, 1, 1, 1, 1])"
      ]
     },
     "execution_count": 6,
     "metadata": {},
     "output_type": "execute_result"
    }
   ],
   "source": [
    "y"
   ]
  },
  {
   "cell_type": "markdown",
   "metadata": {},
   "source": [
    "## データの可視化"
   ]
  },
  {
   "cell_type": "markdown",
   "metadata": {},
   "source": [
    "可視化は大切です。逐一可視化していきましょう。\n",
    "\n",
    "- 横（x）軸は 製品試験に不合格だった製品の個数\n",
    "- 縦（y）軸は「正常 ０・ 異常 １」の２クラス\n",
    "\n",
    "ここでは、製品試験に不合格だった製品の個数に対して、その製品を製造した工場が**正常稼働**なのか**異常稼働**なのかを判断したい（分類したい）ということが目標です。\n",
    "\n",
    "下のセルを実行してください。"
   ]
  },
  {
   "cell_type": "code",
   "execution_count": 7,
   "metadata": {
    "collapsed": true
   },
   "outputs": [],
   "source": [
    "def plotData(X,y):\n",
    "    ytick = np.array(['正常 ０', '異常 １'])#目盛りのラベルの名前を指定（文字列）\n",
    "    plt.yticks([0,1] ,ytick, fontsize=14)#y軸の目盛りにラベルを表示\n",
    "    plt.xlabel('ある製品試験に不合格だった個数[個] ',fontsize=14) #x軸のラベル\n",
    "    plt.title('製品試験と工場（正常・異常）の関係', fontsize=16) #グラフのタイトル\n",
    "    plt.scatter(X[:11] ,y[:11], c='b') #散布図\n",
    "    plt.scatter(X[11:] ,y[11:], c='r') #散布図\n",
    "    plt.show() #グラフを表示"
   ]
  },
  {
   "cell_type": "code",
   "execution_count": 8,
   "metadata": {
    "collapsed": false
   },
   "outputs": [
    {
     "data": {
      "image/png": "[encoded data removed]",
      "text/plain": [
       "<matplotlib.figure.Figure at 0x7f10aa7df6d8>"
      ]
     },
     "metadata": {},
     "output_type": "display_data"
    }
   ],
   "source": [
    "plotData(X,y)"
   ]
  },
  {
   "cell_type": "markdown",
   "metadata": {},
   "source": [
    "このグラフからも分かるように、製品試験に不合格だった製品の個数がおよそ10個かどうかということが、工場が正常稼働なのか異常稼働なのかを判断すべき境目（境界線）であることが分かります。"
   ]
  },
  {
   "cell_type": "markdown",
   "metadata": {},
   "source": [
    "## 線形回帰"
   ]
  },
  {
   "cell_type": "markdown",
   "metadata": {},
   "source": [
    "この問題は工場の稼働を「正常・異常」の２クラスに分類する問題ですが、Step2で学習した線形回帰でこの問題を解けるかどうか試して見ましょう。つまり、製品試験に不合格だった製品の個数がおよそ10個のところに境界線を引けるかどうかとうことです。もしそのようなことが可能であれば、線形回帰でもこの問題を解けることになります。"
   ]
  },
  {
   "cell_type": "markdown",
   "metadata": {},
   "source": [
    "### 目的関数"
   ]
  },
  {
   "cell_type": "markdown",
   "metadata": {},
   "source": [
    "線形回帰を行うには目的関数（コスト関数）を定義する必要があります。<br>\n",
    "Step2で学習した線形回帰の目的関数$J(\\theta_0, \\theta_1)$は、以下のようなものでした。\n",
    "\n",
    "$$J(\\theta_0, \\theta_1) = \\frac{1}{2m}\\sum^{m}_{i=1}(h_{\\boldsymbol{\\theta}}(x^{(i)})-y^{(i)})^2$$\n",
    "\n",
    "また、仮説$h_{\\boldsymbol{\\theta}}(x)$は、\n",
    "\n",
    "$$h_{\\boldsymbol{\\theta}}(x)=\\theta_0+\\theta_1x$$\n",
    "\n",
    "であるとしました。"
   ]
  },
  {
   "cell_type": "markdown",
   "metadata": {},
   "source": [
    "#### パラメータの準備と初期化"
   ]
  },
  {
   "cell_type": "markdown",
   "metadata": {},
   "source": [
    "まずはじめに、これから求める（これから学習する）2つのパラメータ $\\theta_0$と$\\theta_1$を初期化します。\n",
    "\n",
    "Step2では複数のパラメータを配列でひとまとめにして扱えることを学びました。ここでは、2つのパラメータをNumPy の zeros() を使って２行１列の配列（行列）として用意します。\n",
    "\n",
    "下のセルを実行してください。"
   ]
  },
  {
   "cell_type": "code",
   "execution_count": 9,
   "metadata": {
    "collapsed": true
   },
   "outputs": [],
   "source": [
    "theta = np.zeros([2,1])"
   ]
  },
  {
   "cell_type": "markdown",
   "metadata": {},
   "source": [
    "thetaの中身を確認してみましょう。この配列には2つの値（両方ともゼロ）が格納されていることが分かります。"
   ]
  },
  {
   "cell_type": "code",
   "execution_count": 10,
   "metadata": {
    "collapsed": false
   },
   "outputs": [
    {
     "data": {
      "text/plain": [
       "array([[0.],\n",
       "       [0.]])"
      ]
     },
     "execution_count": 10,
     "metadata": {},
     "output_type": "execute_result"
    }
   ],
   "source": [
    "theta"
   ]
  },
  {
   "cell_type": "markdown",
   "metadata": {},
   "source": [
    "#### 仮説hを実装\n",
    "パラメータが準備できれば、それを用いて仮説hを実装できます。"
   ]
  },
  {
   "cell_type": "markdown",
   "metadata": {},
   "source": [
    "** 【課題１】 ** パラメータが準備できたので、仮説 $h_{\\boldsymbol{\\theta}}(x)$ を計算する関数hypothesis(X, theta)を実装しましょう。\n",
    "\n",
    "** Note：**\n",
    "\n",
    "- $x$：入力データ\n",
    "- $\\theta$：パラメータ\n",
    "- $h_{\\boldsymbol{\\theta}}(x)$：仮説\n",
    "\n",
    "仮説は次のように定義しました。\n",
    "\n",
    "$$h_{\\boldsymbol{\\theta}}(x)=\\theta_0+\\theta_1x$$\n",
    "\n",
    "**ヒント：** プログラムを記述する際は、上記の式の$\\theta_0$ は theta[0]　に対応し、$\\theta_1$ は theta[1]　に対応していることに気づけば簡単です。"
   ]
  },
  {
   "cell_type": "code",
   "execution_count": 11,
   "metadata": {
    "collapsed": false
   },
   "outputs": [
    {
     "data": {
      "text/plain": [
       "0.0"
      ]
     },
     "execution_count": 11,
     "metadata": {},
     "output_type": "execute_result"
    }
   ],
   "source": [
    "theta[0,0]"
   ]
  },
  {
   "cell_type": "code",
   "execution_count": 12,
   "metadata": {
    "collapsed": false
   },
   "outputs": [],
   "source": [
    "#Coursemale-02 Step3 QuestionNumber1 6bbb53dc3549befbd465dc38def2f94d\n",
    "def hypothesis(X, theta):\n",
    "###############ここを穴埋めしてください###############\n",
    "    h = theta[0,0] + theta[1,0] * X\n",
    "######################################################\n",
    "    return h"
   ]
  },
  {
   "cell_type": "markdown",
   "metadata": {},
   "source": [
    "左上の**保存マークをクリックした後**、次のセルをShift+Enterで実行して採点します。"
   ]
  },
  {
   "cell_type": "code",
   "execution_count": 13,
   "metadata": {
    "collapsed": false
   },
   "outputs": [
    {
     "name": "stdout",
     "output_type": "stream",
     "text": [
      "Congraturation!\n",
      "We give you 10 points out of 10 points.\n",
      "\n"
     ]
    }
   ],
   "source": [
    "%%bash\n",
    "./validation_client.py male-02 3 1 Step3_01.ipynb api.internal.zero2one.jp 25456f87c8f04725a65d"
   ]
  },
  {
   "cell_type": "markdown",
   "metadata": {},
   "source": [
    "いま定義した仮説 hypothesis に入力データ $x$ と初期化した theta を渡し、実行してみましょう。"
   ]
  },
  {
   "cell_type": "code",
   "execution_count": 14,
   "metadata": {
    "collapsed": false
   },
   "outputs": [
    {
     "name": "stdout",
     "output_type": "stream",
     "text": [
      "[0. 0. 0. 0. 0. 0. 0. 0. 0. 0. 0. 0. 0. 0. 0. 0. 0. 0. 0. 0. 0. 0.]\n"
     ]
    }
   ],
   "source": [
    "h = hypothesis(X, theta)\n",
    "print(h)"
   ]
  },
  {
   "cell_type": "markdown",
   "metadata": {},
   "source": [
    "「パラメータを初期化」で パラメータを格納している配列 thetaの各要素の値は0で初期化したため「$0+0\\times{x}$」 となり、hypothesis が返す配列の要素はすべて0になることが確認できるはずです。"
   ]
  },
  {
   "cell_type": "markdown",
   "metadata": {},
   "source": [
    "#### 目的関数（コスト関数）を実装\n",
    "仮説hが実装できれば、それを使って目的関数（コスト関数）を実装できます。"
   ]
  },
  {
   "cell_type": "markdown",
   "metadata": {},
   "source": [
    "** 【課題２】 **目的関数の値を計算する関数 computeCost(h, y) を実装してください。\n",
    "\n",
    "** Note：**\n",
    "\n",
    "- $h$：仮説（課題１で実装）\n",
    "- $y$：正解ラベル\n",
    "\n",
    "線形回帰の目的関数：\n",
    "$$J(\\theta_0, \\theta_1) = \\frac{1}{2m}\\sum^{m}_{i=1}(h_{\\boldsymbol{\\theta}}(x^{(i)})-y^{(i)})^2$$\n",
    "\n",
    "**ヒント：** 総和（シグマ）を実装するときは関数np.sum()を利用すると便利です。また、$a^{b}$は「a**b」と記述できます。"
   ]
  },
  {
   "cell_type": "code",
   "execution_count": 15,
   "metadata": {
    "collapsed": false
   },
   "outputs": [],
   "source": [
    "#Coursemale-02 Step3 QuestionNumber2 bf13678da897b50323d666d68d5375ed\n",
    "def computeCost(h, y):\n",
    "    m = y.shape[0]\n",
    "###############ここを穴埋めしてください###############\n",
    "    J = (1/(2*m))*np.sum(((h - y) ** 2))\n",
    "######################################################\n",
    "    return J"
   ]
  },
  {
   "cell_type": "markdown",
   "metadata": {},
   "source": [
    "左上の**保存マークをクリックした後**、次のセルをShift+Enterで実行して採点します。"
   ]
  },
  {
   "cell_type": "code",
   "execution_count": 16,
   "metadata": {
    "collapsed": false
   },
   "outputs": [
    {
     "name": "stdout",
     "output_type": "stream",
     "text": [
      "Congraturation!\n",
      "We give you 10 points out of 10 points.\n",
      "\n"
     ]
    }
   ],
   "source": [
    "%%bash\n",
    "./validation_client.py male-02 3 2 Step3_01.ipynb api.internal.zero2one.jp"
   ]
  },
  {
   "cell_type": "markdown",
   "metadata": {},
   "source": [
    "初期のパラメータ$\\theta$に対してのコストを出力してみましょう。下のセルを実行してください。"
   ]
  },
  {
   "cell_type": "code",
   "execution_count": 17,
   "metadata": {
    "collapsed": false
   },
   "outputs": [
    {
     "data": {
      "text/plain": [
       "0.25"
      ]
     },
     "execution_count": 17,
     "metadata": {},
     "output_type": "execute_result"
    }
   ],
   "source": [
    "computeCost(h, y)"
   ]
  },
  {
   "cell_type": "markdown",
   "metadata": {},
   "source": [
    "## パラメータの更新（学習）の式を実装する\n",
    "### 最急降下法"
   ]
  },
  {
   "cell_type": "markdown",
   "metadata": {},
   "source": [
    "復習の意味も兼ねて、Step2の演習で実装した最急降下法を思い出しながら進めていきましょう。\n",
    "\n",
    "最急降下法を用いてパラメータを更新する式は以下のように記述できます。最急降下法では、パラメータの値があまり変化しなくなるまでパラメータを更新し続ける処理を繰り返します（このプロセスを学習と呼びます）。以下の式中の $\\alpha$  は学習率であり、パラメータの更新（学習）のスピードを調整します。\n",
    "$$\\theta_0 := \\theta_0 - \\alpha\\frac{\\partial}{\\partial \\theta_0}J(\\theta_0, \\theta_1)$$\n",
    "$$\\theta_1 := \\theta_1 - \\alpha\\frac{\\partial}{\\partial \\theta_1}J(\\theta_0, \\theta_1)$$\n",
    "<br>\n",
    "この式に線形回帰の目的関数$J(\\theta_0, \\theta_1)$を代入して微分してまとめると、次のようなシンプルな式になります。\n",
    "$$\\begin{align}\\theta_0 &:= \\theta_0 - \\alpha\\frac{1}{m}\\sum_{i=1}^{m}(h_{\\boldsymbol{\\theta}}(x^{(i)})-y^{(i)}) \\\\\n",
    "\\theta_1 &:= \\theta_1 - \\alpha\\frac{1}{m}\\sum_{i=1}^{m}(h_{\\boldsymbol{\\theta}}(x^{(i)})-y^{(i)})x^{(i)}\\end{align}$$"
   ]
  },
  {
   "cell_type": "markdown",
   "metadata": {},
   "source": [
    "#### パラメータを更新する（学習を行う）関数を実装"
   ]
  },
  {
   "cell_type": "markdown",
   "metadata": {},
   "source": [
    "** 【課題３】 **最急降下法を用いてパラメータ theta を更新する関数 update(X, y, h, theta, alpha) を実装し、更新後の theta を返す関数を実装してください。\n",
    "\n",
    "** Note：**\n",
    "- X：入力データ\n",
    "- y：正解ラベル\n",
    "- h：仮説\n",
    "- theta：パラメータ\n",
    "- alpha：学習率（=0.001）\n",
    "\n",
    "**ヒント：** 総和（シグマ）を実装するときは関数np.sum()を利用すると便利です。2つのパラメータをまとめた theta を使って一発で計算しようとはせず、上記の式の通り、パラメータを theta[0] と theta[1] の2つに分けてそれぞれ個別に更新するようにすると直感的に実装できます。"
   ]
  },
  {
   "cell_type": "code",
   "execution_count": 18,
   "metadata": {
    "collapsed": true
   },
   "outputs": [],
   "source": [
    "#Coursemale-02 Step3 QuestionNumber3 9b84a0b692f97d2bf2cefe64ff3a8e7e\n",
    "def update(X, y, h, theta, alpha):\n",
    "    m = y.size #入力データの数\n",
    "###############ここを穴埋めしてください###############\n",
    "    theta[0] = theta[0] - (alpha /m)*np.sum(h - y)\n",
    "    theta[1] = theta[1] - (alpha /m)*np.sum((h - y)*X)\n",
    "######################################################\n",
    "    return theta"
   ]
  },
  {
   "cell_type": "markdown",
   "metadata": {},
   "source": [
    "左上の**保存マークをクリックした後**、次のセルをShift+Enterで実行して採点します。"
   ]
  },
  {
   "cell_type": "code",
   "execution_count": 19,
   "metadata": {
    "collapsed": false
   },
   "outputs": [
    {
     "name": "stdout",
     "output_type": "stream",
     "text": [
      "ExcessiveAccess: Wait for 10 minutes\n",
      "\n"
     ]
    }
   ],
   "source": [
    "%%bash\n",
    "./validation_client.py male-02 3 3 Step3_01.ipynb api.internal.zero2one.jp"
   ]
  },
  {
   "cell_type": "markdown",
   "metadata": {},
   "source": [
    "パラメータを更新する（学習する）関数の実装に成功したら、実際に学習できているかどうか確認して見ましょう。"
   ]
  },
  {
   "cell_type": "markdown",
   "metadata": {},
   "source": [
    "#### 学習結果を視覚的に確認する\n",
    "パラメータに初期値を設定し、一度だけ学習した（更新した） theta の値を出力してみまましょう。下のセルを実行してください。"
   ]
  },
  {
   "cell_type": "code",
   "execution_count": 20,
   "metadata": {
    "collapsed": false
   },
   "outputs": [
    {
     "name": "stdout",
     "output_type": "stream",
     "text": [
      "[[0.0005]\n",
      " [0.008 ]]\n"
     ]
    }
   ],
   "source": [
    "# 学習率\n",
    "alpha=0.001\n",
    "\n",
    "# パラメータの初期値\n",
    "theta = np.zeros([2,1])\n",
    "\n",
    "# パラメータの更新（学習）\n",
    "theta = update(X, y, h, theta, alpha)\n",
    "\n",
    "print(theta) # 結果を確認"
   ]
  },
  {
   "cell_type": "markdown",
   "metadata": {},
   "source": [
    "このパラメータ$\\theta$を使って仮説hをグラフ化してみることで、どの程度の学習ができているかどうかを視覚的に確認して見ましょう。下のセルを実行して見ましょう。"
   ]
  },
  {
   "cell_type": "code",
   "execution_count": 21,
   "metadata": {
    "collapsed": true
   },
   "outputs": [],
   "source": [
    "h = hypothesis(X, theta)"
   ]
  },
  {
   "cell_type": "code",
   "execution_count": 22,
   "metadata": {
    "collapsed": false,
    "scrolled": true
   },
   "outputs": [
    {
     "data": {
      "image/png": "[encoded data removed]",
      "text/plain": [
       "<matplotlib.figure.Figure at 0x7f10acd40198>"
      ]
     },
     "metadata": {},
     "output_type": "display_data"
    }
   ],
   "source": [
    "plt.title('製品試験と工場（正常・異常）の関係', fontsize=16) #グラフのタイトル\n",
    "plt.xlabel('ある製品試験に不合格だった個数[個] ',fontsize=14) #x軸のラベル\n",
    "plt.ylim([-0.1,1.1]) # y軸の幅\n",
    "ytick = np.array(['正常 ０', '異常 １'])#目盛りのラベルの名前を指定（文字列）\n",
    "plt.yticks([0,1], ytick, fontsize=14) #y軸の目盛りにラベルを表示\n",
    "plt.scatter(X[:11], y[:11], c='b') #散布図\n",
    "plt.scatter(X[11:], y[11:], c='r') #散布図\n",
    "plt.plot(X, h, c='black', label = '仮説') #仮説\n",
    "plt.legend(loc = 'upper left' ) #凡例\n",
    "plt.show() "
   ]
  },
  {
   "cell_type": "markdown",
   "metadata": {},
   "source": [
    "分類問題を線形回帰を使って解こうとしているためかなり無理がありそうですが、もう少し学習を進めてみましょう。"
   ]
  },
  {
   "cell_type": "markdown",
   "metadata": {},
   "source": [
    "#### 繰り返しパラメータを更新（学習）させるプログラムを完成させる\n",
    "\n",
    "最急降下法では、一度の更新（学習）では不十分であるため、パラメータが更新される度に得られる新しい仮説を使って再びパラメータを更新（学習）するという処理を何度も繰り返すことで、目的関数（コスト関数）の値を小さくしていきます。つまり、下記のような処理を繰り返すことで仮説の精度を上げます。\n",
    "\n",
    "仮説(最初の仮説)<br>\n",
    "パラメータの更新<br>\n",
    "\n",
    "仮説(新しい仮説)<br>\n",
    "パラメータの更新<br>\n",
    "\n",
    "仮説(新しい仮説)<br>\n",
    "パラメータの更新<br>\n",
    "・<br>\n",
    "・<br>\n",
    "・<br>\n",
    "\n",
    "\n",
    "上記の「仮説」と「パラメータの更新」との間に「目的関数（コスト関数）」の計算を挟みその結果を記録しおくと、それを後でグラフ化することで、目的関数の値が下がっていること、つまり、コストが下がっていることを視覚的に確認できるので便利です。その場合、以下のような処理フローにすれば良いことになります。\n",
    "\n",
    "仮説(最初の仮説)<br>\n",
    "目的関数の計算して記録<br>\n",
    "パラメータの更新<br>\n",
    "\n",
    "仮説(新しい仮説)<br>\n",
    "目的関数の計算して記録<br>\n",
    "パラメータの更新<br>\n",
    "\n",
    "仮説(新しい仮説)<br>\n",
    "目的関数の計算して記録<br>\n",
    "パラメータの更新<br>\n",
    "・<br>\n",
    "・<br>\n",
    "・<br>\n",
    "\n",
    "\n",
    "上記のように同じ処理を何度も繰りを返す場合は for文を使うと便利です。\n",
    "\n",
    "for文と、これまでに実装してきた下記の関数を使って上記の処理フローを実装してみましょう。\n",
    "\n",
    "- hypothesis()\n",
    "- computeCost()\n",
    "- update()"
   ]
  },
  {
   "cell_type": "markdown",
   "metadata": {},
   "source": [
    "** 【課題４】 ** 学習を繰り返し行う gradientDescent(X, y, theta, iterations) を実装し、その結果更新された theta を返す関数を実装してください。\n",
    "\n",
    "**Note1：関数の引数**<br>\n",
    "\n",
    "- X：入力データ\n",
    "- y：正解\n",
    "- theta：更新前のパラメータ\n",
    "- iterations：繰り返し回数\n",
    "\n",
    "**Note2：関数の内部**<br>\n",
    "- h：仮説\n",
    "- J：目的関数\n",
    "- theta：更新されたパラメータ"
   ]
  },
  {
   "cell_type": "code",
   "execution_count": 23,
   "metadata": {
    "collapsed": true
   },
   "outputs": [],
   "source": [
    "#Coursemale-02 Step3 QuestionNumber4 9294339ea5a2f7607f9607c1cb674633\n",
    "def gradientDescent(X, y, theta, iterations):\n",
    "    alpha = 0.001 #学習率\n",
    "    for i in range(iterations):\n",
    "###############ここを穴埋めしてください###############\n",
    "        h = hypothesis(X, theta)\n",
    "        J = computeCost(h, y)\n",
    "        cost.append(J)\n",
    "        theta = update(X, y, h, theta, alpha)\n",
    "######################################################\n",
    "    return theta"
   ]
  },
  {
   "cell_type": "markdown",
   "metadata": {},
   "source": [
    "左上の**保存マークをクリックした後**、次のセルをShift+Enterで実行して採点します。"
   ]
  },
  {
   "cell_type": "code",
   "execution_count": 24,
   "metadata": {
    "collapsed": false
   },
   "outputs": [
    {
     "name": "stdout",
     "output_type": "stream",
     "text": [
      "Congraturation!\n",
      "We give you 10 points out of 10 points.\n",
      "\n"
     ]
    }
   ],
   "source": [
    "%%bash\n",
    "./validation_client.py male-02 3 4 Step3_01.ipynb api.internal.zero2one.jp"
   ]
  },
  {
   "cell_type": "markdown",
   "metadata": {},
   "source": [
    "下のセルを実行するとモデルの学習がはじまります。\n",
    "\n",
    "今回は、繰り返し回数を10000回に指定しました。取り扱うデータやモデルによって必要な学習回数は変わります。\n",
    "\n",
    "データ数が少ないため10000回の計算は数秒程度でおわります。"
   ]
  },
  {
   "cell_type": "code",
   "execution_count": 25,
   "metadata": {
    "collapsed": false
   },
   "outputs": [
    {
     "name": "stdout",
     "output_type": "stream",
     "text": [
      "[[-0.2173913 ]\n",
      " [ 0.06832298]]\n"
     ]
    }
   ],
   "source": [
    "# 目的関数の計算結果を保持しておく配列\n",
    "cost = []\n",
    "\n",
    "# パラメータの初期値\n",
    "theta = np.zeros([2,1])\n",
    "\n",
    "# パラメータの更新（学習）\n",
    "theta = gradientDescent(X, y, theta, iterations=100000)\n",
    "\n",
    "print(theta) # 結果を確認"
   ]
  },
  {
   "cell_type": "markdown",
   "metadata": {},
   "source": [
    "まずはじめに目的関数の出力である cost の値をプロットしてみて値が下がっているかどうか確認してみましょう。costの値が下がっていなければ問題があります。下のセルを実行してください。"
   ]
  },
  {
   "cell_type": "code",
   "execution_count": 26,
   "metadata": {
    "collapsed": false
   },
   "outputs": [
    {
     "data": {
      "image/png": "[encoded data removed]",
      "text/plain": [
       "<matplotlib.figure.Figure at 0x7f10a851aa20>"
      ]
     },
     "metadata": {},
     "output_type": "display_data"
    }
   ],
   "source": [
    "plt.plot(cost[5000:50000],c='b')\n",
    "plt.xlabel('学習回数')\n",
    "plt.ylabel('目的関数の出力の値')\n",
    "plt.show()"
   ]
  },
  {
   "cell_type": "markdown",
   "metadata": {},
   "source": [
    "このグラフから、パラメータの値はおよそ20000回ほどで収束していることがわかります。\n",
    "\n",
    "学習結果を視覚的に確認するために、このパラメータ theta を使って仮説hをプロットしてみましょう。\n",
    "最初にhypothesis(X, theta)を実行して仮説hを手に入れてからグラフ化します。"
   ]
  },
  {
   "cell_type": "code",
   "execution_count": 27,
   "metadata": {
    "collapsed": true
   },
   "outputs": [],
   "source": [
    "h = hypothesis(X, theta)"
   ]
  },
  {
   "cell_type": "code",
   "execution_count": 28,
   "metadata": {
    "collapsed": false
   },
   "outputs": [
    {
     "data": {
      "image/png": "[encoded data removed]",
      "text/plain": [
       "<matplotlib.figure.Figure at 0x7f10a81c6d68>"
      ]
     },
     "metadata": {},
     "output_type": "display_data"
    }
   ],
   "source": [
    "ytick = np.array(['正常 ０', '異常 １'])#目盛りのラベルの名前を指定（文字列）\n",
    "plt.yticks([0,1] ,ytick, fontsize=14)\n",
    "plt.ylim([-0.1,1.1]) # y軸の幅\n",
    "plt.xlabel('ある製品試験に不合格だった個数[個] ',fontsize=14) #x軸のラベル\n",
    "plt.title('製品試験と工場（正常・異常）の関係', fontsize=16) #グラフのタイトル\n",
    "plt.scatter(X[:11] ,y[:11], c='b') #散布図\n",
    "plt.scatter(X[11:] ,y[11:], c='r') #散布図\n",
    "plt.plot(X ,h, c='black', label = '仮説') #仮説\n",
    "plt.legend( loc = 'upper left' ) #凡例\n",
    "plt.show()"
   ]
  },
  {
   "cell_type": "markdown",
   "metadata": {},
   "source": [
    "講義でも紹介したグラフと似た結果を得ることができていると思います。\n",
    "\n",
    "グラフをみるとわかる通り、$X$の値（不合格の個数）が「10個」の辺りで赤い点と青い点を分離する境界線を引けていないので、できちんと「正常・異常」を分類することができていません。"
   ]
  },
  {
   "cell_type": "markdown",
   "metadata": {},
   "source": [
    "<div align=\"center\"  style=\"width:55%\">\n",
    "<img src=\"./dataStep3/exam_plot_graph_.png\"></div>"
   ]
  },
  {
   "cell_type": "markdown",
   "metadata": {},
   "source": [
    "この状況はさらに訓練データ数を増やせば改善するのでしょうか？明らかに異常なデータをさらに追加してどうなるか確認してみましょう。\n",
    "\n",
    "下のセルを実行してください。データの数を22個から45個に増やしてみます。"
   ]
  },
  {
   "cell_type": "code",
   "execution_count": 29,
   "metadata": {
    "collapsed": true
   },
   "outputs": [],
   "source": [
    "m = 45 # 不合格だった個数の最大数\n",
    "X1 = np.arange(0, m, 1) # 0からm-1個の不合格だった個数を生成\n",
    "y1 = np.where(X1 > 10, 1, 0) # 10より大きい場合は不合格「1」、それ以外は合格「0」"
   ]
  },
  {
   "cell_type": "code",
   "execution_count": 30,
   "metadata": {
    "collapsed": false
   },
   "outputs": [
    {
     "data": {
      "text/plain": [
       "array([ 0,  1,  2,  3,  4,  5,  6,  7,  8,  9, 10, 11, 12, 13, 14, 15, 16,\n",
       "       17, 18, 19, 20, 21, 22, 23, 24, 25, 26, 27, 28, 29, 30, 31, 32, 33,\n",
       "       34, 35, 36, 37, 38, 39, 40, 41, 42, 43, 44])"
      ]
     },
     "execution_count": 30,
     "metadata": {},
     "output_type": "execute_result"
    }
   ],
   "source": [
    "X1"
   ]
  },
  {
   "cell_type": "code",
   "execution_count": 31,
   "metadata": {
    "collapsed": false
   },
   "outputs": [
    {
     "data": {
      "text/plain": [
       "array([0, 0, 0, 0, 0, 0, 0, 0, 0, 0, 0, 1, 1, 1, 1, 1, 1, 1, 1, 1, 1, 1,\n",
       "       1, 1, 1, 1, 1, 1, 1, 1, 1, 1, 1, 1, 1, 1, 1, 1, 1, 1, 1, 1, 1, 1,\n",
       "       1])"
      ]
     },
     "execution_count": 31,
     "metadata": {},
     "output_type": "execute_result"
    }
   ],
   "source": [
    "y1"
   ]
  },
  {
   "cell_type": "code",
   "execution_count": 32,
   "metadata": {
    "collapsed": false
   },
   "outputs": [
    {
     "data": {
      "image/png": "[encoded data removed]",
      "text/plain": [
       "<matplotlib.figure.Figure at 0x7f10a81b9fd0>"
      ]
     },
     "metadata": {},
     "output_type": "display_data"
    }
   ],
   "source": [
    "ytick = np.array(['正常 ０', '異常 １'])#目盛りのラベルの名前を指定（文字列）\n",
    "plt.yticks([0,1], ytick, fontsize=14)\n",
    "plt.ylim([-0.1, 1.1]) # y軸の幅\n",
    "plt.xlabel('ある製品試験に不合格だった個数[個] ',fontsize=14) #x軸のラベル\n",
    "plt.title('製品試験と工場（正常・異常）の関係', fontsize=16) #グラフのタイトル\n",
    "plt.scatter(X1[:11], y1[:11], c='b') #散布図\n",
    "plt.scatter(X1[11:], y1[11:], c='r') #散布図\n",
    "plt.show()"
   ]
  },
  {
   "cell_type": "markdown",
   "metadata": {},
   "source": [
    "異常なデータを追加したので、この訓練データを使って仮説hを求めて見ましょう。\n",
    "\n",
    "下のセルをそのまま実行してください。"
   ]
  },
  {
   "cell_type": "code",
   "execution_count": 33,
   "metadata": {
    "collapsed": false
   },
   "outputs": [
    {
     "name": "stdout",
     "output_type": "stream",
     "text": [
      "[[0.21352657]\n",
      " [0.02463768]]\n"
     ]
    }
   ],
   "source": [
    "# 目的関数の計算結果を保持しておく配列\n",
    "cost = []\n",
    "\n",
    "# パラメータの初期値\n",
    "theta1 = np.zeros([2,1])\n",
    "\n",
    "# パラメータの更新（学習）\n",
    "theta = gradientDescent(X1, y1, theta1, iterations=100000)\n",
    "\n",
    "print(theta1) # 結果を確認"
   ]
  },
  {
   "cell_type": "code",
   "execution_count": 34,
   "metadata": {
    "collapsed": true
   },
   "outputs": [],
   "source": [
    "h2 = hypothesis(X1, theta1)"
   ]
  },
  {
   "cell_type": "code",
   "execution_count": 35,
   "metadata": {
    "collapsed": false
   },
   "outputs": [
    {
     "data": {
      "image/png": "[encoded data removed]",
      "text/plain": [
       "<matplotlib.figure.Figure at 0x7f10a80bf358>"
      ]
     },
     "metadata": {},
     "output_type": "display_data"
    }
   ],
   "source": [
    "ytick = np.array(['正常 ０', '異常 １'])#目盛りのラベルの名前を指定（文字列）\n",
    "plt.yticks([0,1], ytick, fontsize=14)\n",
    "plt.ylim([-0.1, 1.1]) # y軸の幅\n",
    "plt.xlabel('ある製品試験に不合格だった個数[個] ',fontsize=14) #x軸のラベル\n",
    "plt.title('製品試験と工場（正常・異常）の関係', fontsize=16) #グラフのタイトル\n",
    "plt.scatter(X1[:11], y1[:11], c='b') #散布図\n",
    "plt.scatter(X1[11:], y1[11:], c='r') #散布図\n",
    "plt.plot(X1, h2, c='black', label = '仮説') #仮説\n",
    "plt.legend(loc = 'upper left'  ) #凡例\n",
    "plt.show()"
   ]
  },
  {
   "cell_type": "markdown",
   "metadata": {},
   "source": [
    "ここでは訓練データを増やして学習すれば状況が改善するかどうか試してみましたが、グラフから明らかなように、状況は改善するどころか益々悪化していることが分かります。\n",
    "\n",
    "この結果は訓練データを増やす前から想像できたことと思います。なぜなら、ここで想定した仮説hを線形回帰を使って求めると、それはできる限り与えられたデータ点を代表するような線となるからです。\n",
    "\n",
    "したがって、Step2の演習で学んだ線形回帰を使って分類問題を解くことは困難であることが分かります。"
   ]
  },
  {
   "cell_type": "markdown",
   "metadata": {},
   "source": [
    "<div align=\"center\"  style=\"width:75%\">\n",
    "<img src=\"./dataStep3/exam_plot_graph_50.png\"></div>"
   ]
  },
  {
   "cell_type": "markdown",
   "metadata": {},
   "source": [
    "## ロジスティック回帰"
   ]
  },
  {
   "cell_type": "markdown",
   "metadata": {},
   "source": [
    "ロジスティック回帰は教師あり学習です。「犬か猫か」「正常か異常か」「右か左か」といった、分類問題を解くために利用されます（線形回帰も教師あり学習ですが、線形回帰は連続値を予測する問題に利用されます）。\n",
    "\n",
    "ここでは、先ほど線形回帰を使って解こうとした分類問題、「製品試験で不合格だった製品の個数（個）から、その製品を製造した工場が「正常稼働」か「異常稼働」を判断する」という問題をロジスティック回帰を使って解く方法を学びます。"
   ]
  },
  {
   "cell_type": "markdown",
   "metadata": {},
   "source": [
    "<div align=\"center\"  style=\"width:55%\">\n",
    "<img src=\"./dataStep3/logistic_regression.png\"></div>"
   ]
  },
  {
   "cell_type": "markdown",
   "metadata": {},
   "source": [
    "### 訓練データセットの準備"
   ]
  },
  {
   "cell_type": "markdown",
   "metadata": {},
   "source": [
    "改めて、以下のデータセット$X$, $y$を準備します。\n",
    "\n",
    "- $X$は製品試験に不合格だった製品の個数\n",
    "- $y$は製品を製造した工場が「正常稼働」か「異常稼働」かを示すラベル\n",
    "\n",
    "下記のコードを実行してください。"
   ]
  },
  {
   "cell_type": "code",
   "execution_count": 36,
   "metadata": {
    "collapsed": true
   },
   "outputs": [],
   "source": [
    "# 分類問題のデータセットXを作成\n",
    "m = 22 # 不合格だった個数の最大数\n",
    "X = np.arange(0, m, 1) # 0からm-1個の不合格だった個数を生成\n",
    "\n",
    "# 分類問題のデータセットy（正解ラベル）を作成\n",
    "y = np.where(X > 10, 1, 0)"
   ]
  },
  {
   "cell_type": "code",
   "execution_count": 38,
   "metadata": {
    "collapsed": true
   },
   "outputs": [],
   "source": [
    "def plotData(X,y):\n",
    "    ytick = np.array(['正常 ０', '異常 １'])#目盛りのラベルの名前を指定（文字列）\n",
    "    plt.yticks([0, 1], ytick, fontsize=14)#y軸の目盛りにラベルを表示\n",
    "    plt.xlabel('ある製品試験に不合格だった個数[個] ',fontsize=14) #x軸のラベル\n",
    "    plt.title('製品試験と工場（正常・異常）の関係', fontsize=16) #グラフのタイトル\n",
    "    plt.scatter(X[:11], y[:11], c='b') #散布図\n",
    "    plt.scatter(X[11:], y[11:], c='r') #散布図\n",
    "    plt.show() #グラフを表示"
   ]
  },
  {
   "cell_type": "code",
   "execution_count": 39,
   "metadata": {
    "collapsed": false
   },
   "outputs": [
    {
     "data": {
      "image/png": "[encoded data removed]",
      "text/plain": [
       "<matplotlib.figure.Figure at 0x7f10a80d9e10>"
      ]
     },
     "metadata": {},
     "output_type": "display_data"
    }
   ],
   "source": [
    "plotData(X, y)"
   ]
  },
  {
   "cell_type": "markdown",
   "metadata": {},
   "source": [
    "### 目的関数"
   ]
  },
  {
   "cell_type": "markdown",
   "metadata": {},
   "source": [
    "ロジスティック回帰を行うには目的関数（コスト関数）を定義する必要があります。<br>\n",
    "ロジスティック回帰の目的関数$J(\\boldsymbol{\\theta})$は以下の通りです：\n",
    "\n",
    "$$J(\\boldsymbol{\\theta}) = -\\frac{1}{m}\\sum^{m}_{i=1}\\left(y^{(i)}\\log(h_{\\boldsymbol{\\theta}}(\\boldsymbol{x}^{(i)}))+(1-y^{(i)})\\log(1-h_{\\theta}(\\boldsymbol{x}^{(i)}))\\right)$$\n",
    "\n",
    "ただし、仮説$h_{\\boldsymbol{\\theta}}(z)$はシグモイド関数\n",
    "$$h_{\\boldsymbol{\\theta}}(z)=\\frac{1}{1+e^{-z}}$$\n",
    "ここで、\n",
    "$$z=\\theta_0+\\theta_1x$$"
   ]
  },
  {
   "cell_type": "markdown",
   "metadata": {},
   "source": [
    "#### パラメータの準備と初期化"
   ]
  },
  {
   "cell_type": "markdown",
   "metadata": {},
   "source": [
    "この仮説にはパラメータが2つあるので配列としてまとめて初期化しましょう。関数np.zeros()を使って両方ともゼロで初期化します。"
   ]
  },
  {
   "cell_type": "code",
   "execution_count": 40,
   "metadata": {
    "collapsed": true
   },
   "outputs": [],
   "source": [
    "theta = np.zeros([2, 1])"
   ]
  },
  {
   "cell_type": "code",
   "execution_count": 41,
   "metadata": {
    "collapsed": false
   },
   "outputs": [
    {
     "data": {
      "text/plain": [
       "array([[0.],\n",
       "       [0.]])"
      ]
     },
     "execution_count": 41,
     "metadata": {},
     "output_type": "execute_result"
    }
   ],
   "source": [
    "theta"
   ]
  },
  {
   "cell_type": "markdown",
   "metadata": {},
   "source": [
    "### 仮説hの実装（シグモイド関数の実装）"
   ]
  },
  {
   "cell_type": "markdown",
   "metadata": {},
   "source": [
    "パラメータが準備できたので、ロジスティック回帰の仮説 $h_\\theta{(x)}$ を実装できます。"
   ]
  },
  {
   "cell_type": "markdown",
   "metadata": {},
   "source": [
    "ロジスティック回帰の仮説$h_{\\boldsymbol{\\theta}}(x)$はシグモイド関数です。\n",
    "\n",
    "$$h_{\\boldsymbol{\\theta}}(x)=\\frac{1}{1+e^{-\\boldsymbol{\\theta}^{\\top}\\boldsymbol{x}}}$$\n",
    "\n",
    "\n",
    "ここで、$\\boldsymbol{\\theta}^{\\top}\\boldsymbol{x}$は線形回帰の仮説（${\\theta}$と$x$の内積）ですが、これを下記のように $z$ と置くと、\n",
    "\n",
    "$$z=\\boldsymbol{\\theta}^{\\top}\\boldsymbol{x}$$\n",
    "\n",
    "次のように記述できます\n",
    "$$sigmoid(z)=\\frac{1}{1+e^{-z}}$$\n",
    "\n",
    "\n",
    "** 【課題５】 ** 関数sigmoid(X, theta)を実装してください。\n",
    "\n",
    "\n",
    "一般にパラメータ$\\theta$の要素数は任意ですが、この課題では$\\theta_0$と$\\theta_1$の2つだけとし、$z$を次のように仮定します：\n",
    "\n",
    "$$z=\\theta_0+\\theta_1x$$\n",
    "\n",
    "\n",
    "**ヒント:** z は theta[1] と theta[0] を使って記述すると楽に実装できます。$e^{-z}$ の部分の実装は np.exp(-z) を用いて実装できます。"
   ]
  },
  {
   "cell_type": "code",
   "execution_count": 44,
   "metadata": {
    "collapsed": true
   },
   "outputs": [],
   "source": [
    "#Coursemale-02 Step3 QuestionNumber5 cda0fc3db4fec10f5f38bf3ef9d0d218\n",
    "def sigmoid(X, theta):\n",
    "###############ここを穴埋めしてください###############\n",
    "    z = theta[0] + theta[1] * X\n",
    "    h = 1/(1+np.exp(-z))\n",
    "######################################################\n",
    "    return h"
   ]
  },
  {
   "cell_type": "markdown",
   "metadata": {},
   "source": [
    "左上の**保存マークをクリックした後**、次のセルをShift+Enterで実行して採点します。"
   ]
  },
  {
   "cell_type": "code",
   "execution_count": 45,
   "metadata": {
    "collapsed": false
   },
   "outputs": [
    {
     "name": "stdout",
     "output_type": "stream",
     "text": [
      "Congraturation!\n",
      "We give you 10 points out of 10 points.\n",
      "\n"
     ]
    }
   ],
   "source": [
    "%%bash\n",
    "./validation_client.py male-02 3 5 Step3_01.ipynb api.internal.zero2one.jp"
   ]
  },
  {
   "cell_type": "markdown",
   "metadata": {},
   "source": [
    "ここで定義した sigmoid関数 に入力データ $x$ とゼロで初期化した theta を渡して実行してみましょう。"
   ]
  },
  {
   "cell_type": "code",
   "execution_count": 46,
   "metadata": {
    "collapsed": false
   },
   "outputs": [
    {
     "data": {
      "text/plain": [
       "array([0.5, 0.5, 0.5, 0.5, 0.5, 0.5, 0.5, 0.5, 0.5, 0.5, 0.5, 0.5, 0.5,\n",
       "       0.5, 0.5, 0.5, 0.5, 0.5, 0.5, 0.5, 0.5, 0.5])"
      ]
     },
     "execution_count": 46,
     "metadata": {},
     "output_type": "execute_result"
    }
   ],
   "source": [
    "h3 = sigmoid(X, theta)\n",
    "h3"
   ]
  },
  {
   "cell_type": "markdown",
   "metadata": {},
   "source": [
    "theta の要素はすべてゼロで初期化していたため、$z$ はすべてゼロとなり、その結果、分母にある指数計算の部分がすべて $e^0$ 、つまり、1になります。\n",
    "\n",
    "$$sigmoid(0) = \\frac{1}{1+e^{0}} = \\frac{1}{1+1} = 0.5$$\n",
    "\n",
    "\n",
    "zがゼロの場合はsigmoidの値が0.5になることが分かりました。一方、zが非常に大きな正の数である場合、分母の$e^{-z}$はほとんどゼロになるので、sigmoidの値は「1」に近づきます。また、zが非常に大きな負の数の場合、分母の分母の$e^{-z}$は非常に大きな数になるのでsigmoidの値は「0」に近づきます。つまり、sigmoidの値は0から1の間の値になります。\n",
    "\n",
    "この様子をグラグ化して視覚的に確認して見ましょう。\n",
    "下のセルを実行するとシグモイド関数のグラフが出力されます。"
   ]
  },
  {
   "cell_type": "code",
   "execution_count": 47,
   "metadata": {
    "collapsed": false
   },
   "outputs": [
    {
     "data": {
      "image/png": "[encoded data removed]",
      "text/plain": [
       "<matplotlib.figure.Figure at 0x7f10a8237438>"
      ]
     },
     "metadata": {},
     "output_type": "display_data"
    }
   ],
   "source": [
    "test_data = np.arange(-10,10,0.1)\n",
    "test_h = 1 / (1 + np.exp(-test_data))\n",
    "plt.plot(test_data, test_h)\n",
    "plt.grid()\n",
    "plt.show()"
   ]
  },
  {
   "cell_type": "markdown",
   "metadata": {},
   "source": [
    "確率論ではある事象が起きる確率を0から1までの数値で表現しますが、sigmoidの値も0から1の間の値をとるため、ロジスティック回帰で利用する仮説hの値（つまりsigmoid関数の値）は問題となっている対象がある分類に属する確率として解釈されます。"
   ]
  },
  {
   "cell_type": "markdown",
   "metadata": {},
   "source": [
    "### ロジスティック回帰の目的関数"
   ]
  },
  {
   "cell_type": "markdown",
   "metadata": {},
   "source": [
    "ロジスティック回帰の仮説h（シグモイド関数）が実装できたので、ロジスティック回帰の目的関数を実装できます。\n",
    "\n",
    "$J(\\boldsymbol{\\theta})$を、以下に示します。\n",
    "$$J(\\boldsymbol{\\theta}) = -\\frac{1}{m}\\sum^{m}_{i=1}\\left(y^{(i)}\\log(h_{\\boldsymbol{\\theta}}(\\boldsymbol{x}^{(i)}))+(1-y^{(i)})\\log(1-h_{\\theta}(\\boldsymbol{x}^{(i)}))\\right)$$"
   ]
  },
  {
   "cell_type": "markdown",
   "metadata": {},
   "source": [
    "** 【課題６】 ** 目的関数 $J(\\theta)$ を計算する関数computeCost_logi(h, y)を実装してください。\n",
    "\n",
    "** Note：関数computeCost_log()の引数**\n",
    "\n",
    "- $h$：仮説（課題5で実装したシグモイド関数）\n",
    "- $y$：正解ラベル\n",
    "\n",
    "**ヒント：** 上記の2つの引数（$h$と$y$）は与えられるので、これらは与えられたものとして関数の内部でそのまま利用します。総和（シグマ）は関数 np.sum()、$\\log(x)$は関数 np.log()を用いて実装できます。"
   ]
  },
  {
   "cell_type": "code",
   "execution_count": 48,
   "metadata": {
    "collapsed": true
   },
   "outputs": [],
   "source": [
    "#Coursemale-02 Step3 QuestionNumber6 24c65b658dc941f868ae093dfd2b16ec\n",
    "def computeCost_logi(h, y):\n",
    "###############ここを穴埋めしてください###############\n",
    "    m = y.shape[0]\n",
    "    J = (-1/m)*np.sum(y * np.log(h) + (1 - y)*np.log(1 - h))\n",
    "######################################################\n",
    "    return J"
   ]
  },
  {
   "cell_type": "markdown",
   "metadata": {},
   "source": [
    "左上の**保存マークをクリックした後**、次のセルをShift+Enterで実行して採点します。"
   ]
  },
  {
   "cell_type": "code",
   "execution_count": 49,
   "metadata": {
    "collapsed": false
   },
   "outputs": [
    {
     "name": "stdout",
     "output_type": "stream",
     "text": [
      "Congraturation!\n",
      "We give you 10 points out of 10 points.\n",
      "\n"
     ]
    }
   ],
   "source": [
    "%%bash\n",
    "./validation_client.py male-02 3 6 Step3_01.ipynb api.internal.zero2one.jp"
   ]
  },
  {
   "cell_type": "markdown",
   "metadata": {},
   "source": [
    "初期値をすべてゼロにパラメータ（theta）から求められる仮説hに対して、目的関数（コスト関数）の値がどうなるか確認してみましょう。"
   ]
  },
  {
   "cell_type": "code",
   "execution_count": 50,
   "metadata": {
    "collapsed": false
   },
   "outputs": [
    {
     "data": {
      "text/plain": [
       "0.6931471805599453"
      ]
     },
     "execution_count": 50,
     "metadata": {},
     "output_type": "execute_result"
    }
   ],
   "source": [
    "# パラメータの初期化\n",
    "theta = np.zeros([2,1])\n",
    "\n",
    "# ロジスティック回帰の仮説を計算\n",
    "h = sigmoid(X, theta)\n",
    "\n",
    "# 目的関数（コスト関数）の値を計算\n",
    "computeCost_logi(h, y)"
   ]
  },
  {
   "cell_type": "markdown",
   "metadata": {},
   "source": [
    "### パラメータの更新（学習）の式を実装する\n",
    "#### 最急降下法"
   ]
  },
  {
   "cell_type": "markdown",
   "metadata": {},
   "source": [
    "最急降下法を用いてパラメータを更新する式は、ロジスティック回帰の場合も線形回帰の時と同じになります（下記）。\n",
    "\n",
    "$$\\begin{align}\\theta_0 &:= \\theta_0 - \\alpha\\frac{1}{m}\\sum_{i=1}^{m}(h_{\\boldsymbol{\\theta}}(x^{(i)})-y^{(i)}) \\\\\n",
    "\\theta_1 &:= \\theta_1 - \\alpha\\frac{1}{m}\\sum_{i=1}^{m}(h_{\\boldsymbol{\\theta}}(x^{(i)})-y^{(i)})x^{(i)}\\end{align}$$\n",
    "\n",
    "\n",
    "\n",
    "\n",
    "この式中の α は学習率であり、パラメータの更新（学習）のスピードを調整します。\n",
    "\n",
    "繰り返しになりますが、最急降下法では、パラメータの値があまり変化しなくなるまでパラメータを更新し続ける処理を繰り返します。線形回帰の時と同じように、「仮説」と「パラメータの更新」との間に「目的関数（コスト関数）」の計算を挟みその結果を記録するという処理を繰り返し行うよう実装にしましょう。そのようにしておくと、後で目的関数の値の変化をグラフ化して確認することができるからです。\n",
    "\n",
    "\n",
    "仮説(最初の仮説)<br>\n",
    "目的関数の計算して記録<br>\n",
    "パラメータの更新<br>\n",
    "\n",
    "仮説(新しい仮説)<br>\n",
    "目的関数の計算して記録<br>\n",
    "パラメータの更新<br>\n",
    "\n",
    "仮説(新しい仮説)<br>\n",
    "目的関数の計算して記録<br>\n",
    "パラメータの更新<br>\n",
    "・<br>\n",
    "・<br>\n",
    "・<br>\n",
    "\n",
    "同じ処理を何度も繰りを返すので for文を利用して実装します。"
   ]
  },
  {
   "cell_type": "markdown",
   "metadata": {},
   "source": [
    "** 【課題７】 ** 繰り返し学習を行う gradientDescent_logi(X, y, theta, iterations) を実装し、更新後の theta を返す関数を実装してください。\n",
    "\n",
    "**Note1：**\n",
    "関数gradientDescent_log()iの引数\n",
    "- X：入力データ\n",
    "- y：正解ラベル\n",
    "- theta：更新前のパラメータ\n",
    "- iterations：繰り返し回数\n",
    "\n",
    "**Note2：**\n",
    "関数gradientDescent_log()iの内部\n",
    "- h：仮説：関数sigmoid(X, theta)を利用\n",
    "- J：目的関数： 関数computeCost_logi(h, y)を利用\n",
    "- theta：更新後のパラメータ（課題３で実装したパラメータを更新する関数update(X, y, h, theta, alpha)を利用）"
   ]
  },
  {
   "cell_type": "code",
   "execution_count": 52,
   "metadata": {
    "collapsed": false
   },
   "outputs": [],
   "source": [
    "#Coursemale-02 Step3 QuestionNumber7 0b99c313460e1d7a0d8068a3c98ad5be\n",
    "def gradientDescent_logi(X, y, theta, iterations):\n",
    "    alpha = 0.01 #学習率\n",
    "    for i in range(iterations):\n",
    "###############ここを穴埋めしてください###############\n",
    "        # 仮説の計算\n",
    "        h = sigmoid(X, theta)\n",
    "        \n",
    "        # 目的関数（コスト関数）の計算と記録\n",
    "        J = computeCost_logi(h, y)\n",
    "        cost.append(J)\n",
    "        \n",
    "        # 学習（パラメータの更新）\n",
    "        theta = update(X, y, h, theta, alpha)\n",
    "######################################################\n",
    "    return theta"
   ]
  },
  {
   "cell_type": "markdown",
   "metadata": {},
   "source": [
    "左上の**保存マークをクリックした後**、次のセルをShift+Enterで実行して採点します。"
   ]
  },
  {
   "cell_type": "code",
   "execution_count": 53,
   "metadata": {
    "collapsed": false
   },
   "outputs": [
    {
     "name": "stdout",
     "output_type": "stream",
     "text": [
      "Congraturation!\n",
      "We give you 10 points out of 10 points.\n",
      "\n"
     ]
    }
   ],
   "source": [
    "%%bash\n",
    "./validation_client.py male-02 3 7 Step3_01.ipynb api.internal.zero2one.jp"
   ]
  },
  {
   "cell_type": "markdown",
   "metadata": {},
   "source": [
    "下のセルを実行する学習が始まります。\n",
    "\n",
    "今回は、繰り返し回数を300000回としました。取り扱うデータによって適切な必要な学習回数は変わります。まず適当な回数で学習をしてみて、目的関数の値の変化を視覚的に確認し、何回学習を繰り返すのが適当なのか決めることになるでしょう。\n",
    "\n",
    "計算には数秒かかります。"
   ]
  },
  {
   "cell_type": "code",
   "execution_count": 54,
   "metadata": {
    "collapsed": true
   },
   "outputs": [],
   "source": [
    "# 目的関数（コスト関数）の計算結果を保持するための配列\n",
    "cost = [] \n",
    "\n",
    "# パラメータを初期化\n",
    "theta = np.zeros([2,1])\n",
    "\n",
    "# 学習\n",
    "theta = gradientDescent_logi(X, y, theta, iterations=300000)"
   ]
  },
  {
   "cell_type": "markdown",
   "metadata": {},
   "source": [
    "配列costには目的関数（コスト関数）の計算結果が保持されますが、この配列に計算結果を書き込む処理は、関数gradientDescent_logi()の内部で行われています。関数gradientDescent_logi()の内部では、繰り返し学習が行われ、パラメータが更新されて新たな仮説が計算される度に目的関数の値を求めて配列costに記録しているわけです。\n",
    "\n",
    "配列costに記録された目的関数（コスト関数）の値の変化をプロットし視覚的に確認してみましょう。目的関数（コスト関数）の値が、学習の度に減少する方向に変化していなければ何かしら問題があるということがすぐに分かります。"
   ]
  },
  {
   "cell_type": "code",
   "execution_count": 55,
   "metadata": {
    "collapsed": false
   },
   "outputs": [
    {
     "data": {
      "image/png": "[encoded data removed]",
      "text/plain": [
       "<matplotlib.figure.Figure at 0x7f10a8057f60>"
      ]
     },
     "metadata": {},
     "output_type": "display_data"
    }
   ],
   "source": [
    "plt.plot(cost, c='b')\n",
    "plt.xlabel('学習回数')\n",
    "plt.ylabel('目的関数の出力の値')\n",
    "plt.show()"
   ]
  },
  {
   "cell_type": "markdown",
   "metadata": {},
   "source": [
    "目的関数（コスト関数）の値があまり変化しなくなる回数で学習を打ち切り、学習結果を視覚的に確認して見ましょう。"
   ]
  },
  {
   "cell_type": "markdown",
   "metadata": {},
   "source": [
    "### 学習結果を視覚的に確認する\n",
    "#### 仮説（シグモイド関数）の可視化"
   ]
  },
  {
   "cell_type": "markdown",
   "metadata": {},
   "source": [
    "学習の結果得られたパラメータ theta を使って仮説hをプロットしてみましょう。\n",
    "\n",
    "仮説$h_{\\boldsymbol{\\theta}}(x)$はシグモイド関数ですから、\n",
    "\n",
    "$$h_{\\boldsymbol{\\theta}}(x)=\\frac{1}{1+e^{-\\boldsymbol{\\theta}^{\\top}\\boldsymbol{x}}}$$\n",
    "\n",
    "\n",
    "\n",
    "これは関数sigmoid(X, theta) のことですから、これをプロットすることで仮説hを視覚的に確認できます。"
   ]
  },
  {
   "cell_type": "code",
   "execution_count": 56,
   "metadata": {
    "collapsed": true
   },
   "outputs": [],
   "source": [
    "# 仮説（シグモイド関数）\n",
    "h3 = sigmoid(X, theta)"
   ]
  },
  {
   "cell_type": "code",
   "execution_count": 57,
   "metadata": {
    "collapsed": false
   },
   "outputs": [
    {
     "data": {
      "image/png": "[encoded data removed]",
      "text/plain": [
       "<matplotlib.figure.Figure at 0x7f10a7b05cc0>"
      ]
     },
     "metadata": {},
     "output_type": "display_data"
    }
   ],
   "source": [
    "ytick = np.array(['正常 ０', '異常 １'])#目盛りのラベルの名前を指定（文字列）\n",
    "plt.yticks([0, 1], ytick, fontsize=14)\n",
    "plt.ylim([-0.1, 1.1]) # y軸の幅\n",
    "plt.xlabel('ある製品試験に不合格だった個数[個] ',fontsize=14) #x軸のラベル\n",
    "plt.title('製品試験と工場（正常・異常）の関係', fontsize=16) #グラフのタイトル\n",
    "plt.scatter(X[:11], y[:11], c='b') #散布図\n",
    "plt.scatter(X[11:], y[11:], c='r') #散布図\n",
    "plt.plot(X, h3, c='black', label='仮説（シグモイド関数）') #仮説（シグモイド関数）\n",
    "plt.legend(loc='upper left')\n",
    "plt.show()"
   ]
  },
  {
   "cell_type": "markdown",
   "metadata": {},
   "source": [
    "ロジスティック回帰の仮説は0から1の間の値を取るため、その値は確率とみなせます。\n",
    "\n",
    "この例では、工業が異常な確率は不合格となった製品の個数が0個から7個までは仮説の値はほぼゼロですが、7個の辺りから急激に異常な値が大きくなり、10個のところで値が0.5（異常である確率50％）、13個辺りから先は値がほぼ1（異常である確率100%）になります。仮説の値はこのように確率として解釈するという利用方法あるわけです。"
   ]
  },
  {
   "cell_type": "markdown",
   "metadata": {},
   "source": [
    "#### 決定境界の可視化\n",
    "\n",
    "次に、シグモイド関数の分母にある指数関数の肩に乗っている以下の部分\n",
    "\n",
    "$$z=\\boldsymbol{\\theta}^{\\top}\\boldsymbol{x}$$\n",
    "\n",
    "をプロットして可視化して見ましょう。これは**決定境界**と呼ばれます。\n",
    "\n",
    "これは関数hypothesis(X, theta)のことですから、これをプロットすることで決定境界を視覚的に確認できます。"
   ]
  },
  {
   "cell_type": "code",
   "execution_count": 58,
   "metadata": {
    "collapsed": true
   },
   "outputs": [],
   "source": [
    "#決定境界\n",
    "h4 = hypothesis(X, theta)"
   ]
  },
  {
   "cell_type": "code",
   "execution_count": 59,
   "metadata": {
    "collapsed": false
   },
   "outputs": [
    {
     "data": {
      "image/png": "[encoded data removed]",
      "text/plain": [
       "<matplotlib.figure.Figure at 0x7f10a7af0f28>"
      ]
     },
     "metadata": {},
     "output_type": "display_data"
    }
   ],
   "source": [
    "ytick = np.array(['正常 ０', '異常 １'])#目盛りのラベルの名前を指定（文字列）\n",
    "plt.yticks([0, 1], ytick, fontsize=14)\n",
    "plt.ylim([-0.1, 1.1]) # y軸の幅\n",
    "plt.xlabel('ある製品試験に不合格だった個数[個] ',fontsize=14) #x軸のラベル\n",
    "plt.title('製品試験と工場（正常・異常）の関係', fontsize=16) #グラフのタイトル\n",
    "plt.scatter(X[:11], y[:11], c='b') #散布図\n",
    "plt.scatter(X[11:], y[11:], c='r') #散布図\n",
    "plt.plot(X, h4, c='black', label='決定境界') #決定境界\n",
    "plt.legend(loc='upper left')\n",
    "plt.show()"
   ]
  },
  {
   "cell_type": "markdown",
   "metadata": {},
   "source": [
    "この決定境界は工場の異常と正常を分ける場所に引かれています。これはまさに我々が求めたかった境界線です。\n",
    "つまり、ロジスティック回帰で求められる**決定境界**が分類の境界線になることが分かります。"
   ]
  },
  {
   "cell_type": "markdown",
   "metadata": {},
   "source": [
    "## おつかれさまでした"
   ]
  },
  {
   "cell_type": "markdown",
   "metadata": {},
   "source": [
    "以上でロジスティック回帰の基礎おしまいです。\n",
    "\n",
    "離散値を使った教師あり学習の一つの手法であるロジスティック回帰を体験してもらいました。\n",
    "\n",
    "最後に本演習で行なったことを簡単に振り返ります。\n",
    "\n",
    "* パラメータの初期化\n",
    "* 仮説を定義\n",
    "* 目的関数\n",
    "* 最急降下法\n",
    "\n",
    "主に上記の4つのテクニックや手法を用いて機械学習の実装をおこないました。\n",
    "\n",
    "基本的に線形回帰とやっていることは同じでした。違ったのは、仮説のみです！！\n",
    "\n",
    "次の演習ではまた違ったテクニックを使ってロジスティック回帰の実装を行います。\n",
    "\n",
    "おつかれさまでした。\n",
    "\n",
    "最後にオプションとして、\n",
    "\n",
    "* 学習回数に伴う決定境界の変遷\n",
    "* 明らかに異常なデータを加えたデータを使った予測\n",
    "\n",
    "それぞれロジスティック回帰で行ったコードを用意しています。\n",
    "\n",
    "計算に少し時間がかかりますが、これまでの課題に正解していたら実行できるはずなのでセルを実行してみてください。"
   ]
  },
  {
   "cell_type": "markdown",
   "metadata": {},
   "source": [
    "---"
   ]
  },
  {
   "cell_type": "markdown",
   "metadata": {},
   "source": [
    "## オプション1"
   ]
  },
  {
   "cell_type": "markdown",
   "metadata": {},
   "source": [
    "ロジスティック回帰で実装した同じデータセットを使って、学習回数の増加に伴う仮説の予測のプロットの推移を表示させてみます。\n",
    "\n",
    "下のセルを実行すると計算がはじまります。\n",
    "\n",
    "ただし、これまでの課題に正解している必要があります。"
   ]
  },
  {
   "cell_type": "code",
   "execution_count": null,
   "metadata": {
    "collapsed": true
   },
   "outputs": [],
   "source": [
    "iterations = np.array([1,100,500,1000, 10000,100000]) #学習回数\n",
    "plt.figure(figsize=(18,10))\n",
    "for i in range(6):\n",
    "    theta = np.zeros([2,1])\n",
    "    theta = gradientDescent_logi(X, y, theta, iterations[i])\n",
    "    h5 = hypothesis(X, theta)\n",
    "    h6 = sigmoid(X, theta)\n",
    "    \n",
    "    plt.subplot(2,3,i+1)\n",
    "    plt.title(\"学習回数{}\".format(iterations[i]))#タイトル\n",
    "    plt.xlabel('ある製品試験に不合格だった個数[個]') #x軸のラベル\n",
    "    plt.ylim([-0.2,1.2]) #y軸の幅\n",
    "    ytick = np.array(['正常 ０', '異常 １'])#y軸のラベル\n",
    "    plt.yticks([0,1] ,ytick, fontsize=14)#y軸のラベル\n",
    "    plt.scatter(X[:11] ,y[:11], c='b') #データセットをプロット\n",
    "    plt.scatter(X[11:] ,y[11:], c='r') #データセットをプロット\n",
    "    plt.plot(X,h5,label='決定境界') #決定境界\n",
    "    plt.scatter(X, h6,c='black') #シグモイド関数の出力\n",
    "    plt.legend(loc='upper left') #凡例を表示\n",
    "plt.show()"
   ]
  },
  {
   "cell_type": "markdown",
   "metadata": {},
   "source": [
    "学習を繰り替えすごとに徐々にフィットしていく様子でした。"
   ]
  },
  {
   "cell_type": "markdown",
   "metadata": {},
   "source": [
    "## オプション2"
   ]
  },
  {
   "cell_type": "markdown",
   "metadata": {},
   "source": [
    "線形回帰では予測することができなかった明らかな異常なデータを加えてみます。\n",
    " \n",
    "下のセルを実行してください。データの数を22個から30,50,100,150,200個と徐々に増やしてみます。\n",
    "\n",
    "計算には数秒かかります。"
   ]
  },
  {
   "cell_type": "code",
   "execution_count": null,
   "metadata": {
    "collapsed": true
   },
   "outputs": [],
   "source": [
    "iterations = np.array([10000,10000,10000,50000,50000,50000]) #学習回数\n",
    "m = np.array([22,30,50,100,150,200]) #製品の数\n",
    "plt.figure(figsize=(18,10))\n",
    "for q in range(6):\n",
    "    XX = np.arange(0 , m[q], 1)\n",
    "    yy = np.where(XX > XX[10], 1,0)\n",
    "    for i in range(1):\n",
    "        theta = np.zeros([2,1])\n",
    "        theta = gradientDescent_logi(XX, yy, theta, iterations[q])\n",
    "        h7 = hypothesis(XX, theta)\n",
    "        h8 = sigmoid(XX, theta)\n",
    "    \n",
    "        plt.subplot(2,3,q+1)\n",
    "        plt.title(\"データの数：{},　学習回数：{}\".format(m[q],iterations[q]))\n",
    "        plt.xlabel('ある製品試験に不合格だった個数[個]')\n",
    "        ytick = np.array(['正常 ０', '異常 １'])\n",
    "        plt.ylim([-0.2,1.2])\n",
    "        plt.yticks([0,1] ,ytick, fontsize=14)\n",
    "        plt.scatter(XX[:11] ,yy[:11], c='b')\n",
    "        plt.scatter(XX[11:] ,yy[11:], c='r')\n",
    "        plt.plot(XX,h7,label='決定境界')\n",
    "        plt.scatter(XX, h8,c='black')\n",
    "        plt.legend(loc='lower right')\n",
    "plt.show()"
   ]
  },
  {
   "cell_type": "markdown",
   "metadata": {
    "collapsed": true
   },
   "source": [
    "明らかに異常な訓練データが追加されても正しく正常と異常を分類することができていることがわかります。"
   ]
  },
  {
   "cell_type": "code",
   "execution_count": null,
   "metadata": {
    "collapsed": true
   },
   "outputs": [],
   "source": []
  }
 ],
 "metadata": {
  "anaconda-cloud": {},
  "kernelspec": {
   "display_name": "Python [default]",
   "language": "python",
   "name": "python3"
  },
  "language_info": {
   "codemirror_mode": {
    "name": "ipython",
    "version": 3
   },
   "file_extension": ".py",
   "mimetype": "text/x-python",
   "name": "python",
   "nbconvert_exporter": "python",
   "pygments_lexer": "ipython3",
   "version": "3.5.2"
  },
  "toc": {
   "nav_menu": {
    "height": "228px",
    "width": "252px"
   },
   "navigate_menu": true,
   "number_sections": true,
   "sideBar": true,
   "threshold": 4,
   "toc_cell": false,
   "toc_position": {
    "height": "616px",
    "left": "0px",
    "right": "939px",
    "top": "107px",
    "width": "597px"
   },
   "toc_section_display": "block",
   "toc_window_display": true
  }
 },
 "nbformat": 4,
 "nbformat_minor": 2
}
